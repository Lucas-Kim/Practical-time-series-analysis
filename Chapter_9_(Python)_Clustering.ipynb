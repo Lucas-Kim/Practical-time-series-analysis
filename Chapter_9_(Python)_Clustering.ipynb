{
 "cells": [
  {
   "cell_type": "markdown",
   "metadata": {
    "id": "82EQZkDdyoqB"
   },
   "source": [
    "# 9장 시계열을위한 머신러닝 (클러스터링)\n",
    "\n",
    "> cesium 등을 다룬다.\n",
    "- author: \"Chansung Park\"\n",
    "- toc: false\n",
    "- comments: false\n",
    "- categories: [machine learning, clustering, unsupervised learning]\n",
    "- permalink: /chapter9-clustering/\n",
    "- badges: true\n",
    "- hide_github_badge: true"
   ]
  },
  {
   "cell_type": "markdown",
   "metadata": {
    "id": "uD6P8y7rwjak"
   },
   "source": [
    "* 시계열 자체를 입력으로 사용하려면, 동적시간워핑(Dynamic Time Warping; DTW)라는 거리 평가 지표를 알아야 한다. 시계열에 직접적으로 적용되는 DTW는 데이터 전체에 대한 시간 정보를 보존한다. \n",
    "\n",
    "1. 특징에 기반한 거리\n",
    "  - 시계열을 위한 feature를 생성하고, 이들을 데이터의 계산을 위한 좌표로 취급한다\n",
    "  - 비시계열과 데이터셋의 거리 측정과 동일한 수준의 문제로 만들 수 있다\n",
    "2. raw 시계열 데이터에 기반한 거리\n",
    "  - 서로 다른 시계열이 얼마나 '가까운지'를 결정하는 방법을 찾는다.\n",
    "  - 가급적이면 서로 다른 시간의 규모, 서로 다른 측정 개수, 그 외 시계열 표본 사이의 있을 법한 불균형을 다룰 수 있는 방식이어야 한다."
   ]
  },
  {
   "cell_type": "code",
   "execution_count": null,
   "metadata": {
    "colab": {
     "base_uri": "https://localhost:8080/"
    },
    "id": "B0h_1PBky7I2",
    "outputId": "b44f3f70-ec77-41f8-d088-c5ab43c6624e"
   },
   "outputs": [
    {
     "name": "stdout",
     "output_type": "stream",
     "text": [
      "Collecting dtaidistance\n",
      "\u001b[?25l  Downloading https://files.pythonhosted.org/packages/d6/ae/3b33bb905c018e7d6782652c3277f48003bfb380c22412fbe50ef48a5af3/dtaidistance-2.2.5.tar.gz (932kB)\n",
      "\r\u001b[K     |▍                               | 10kB 14.5MB/s eta 0:00:01\r\u001b[K     |▊                               | 20kB 13.5MB/s eta 0:00:01\r\u001b[K     |█                               | 30kB 9.2MB/s eta 0:00:01\r\u001b[K     |█▍                              | 40kB 7.2MB/s eta 0:00:01\r\u001b[K     |█▊                              | 51kB 4.9MB/s eta 0:00:01\r\u001b[K     |██                              | 61kB 5.1MB/s eta 0:00:01\r\u001b[K     |██▌                             | 71kB 5.5MB/s eta 0:00:01\r\u001b[K     |██▉                             | 81kB 5.8MB/s eta 0:00:01\r\u001b[K     |███▏                            | 92kB 5.7MB/s eta 0:00:01\r\u001b[K     |███▌                            | 102kB 6.1MB/s eta 0:00:01\r\u001b[K     |███▉                            | 112kB 6.1MB/s eta 0:00:01\r\u001b[K     |████▏                           | 122kB 6.1MB/s eta 0:00:01\r\u001b[K     |████▋                           | 133kB 6.1MB/s eta 0:00:01\r\u001b[K     |█████                           | 143kB 6.1MB/s eta 0:00:01\r\u001b[K     |█████▎                          | 153kB 6.1MB/s eta 0:00:01\r\u001b[K     |█████▋                          | 163kB 6.1MB/s eta 0:00:01\r\u001b[K     |██████                          | 174kB 6.1MB/s eta 0:00:01\r\u001b[K     |██████▎                         | 184kB 6.1MB/s eta 0:00:01\r\u001b[K     |██████▊                         | 194kB 6.1MB/s eta 0:00:01\r\u001b[K     |███████                         | 204kB 6.1MB/s eta 0:00:01\r\u001b[K     |███████▍                        | 215kB 6.1MB/s eta 0:00:01\r\u001b[K     |███████▊                        | 225kB 6.1MB/s eta 0:00:01\r\u001b[K     |████████                        | 235kB 6.1MB/s eta 0:00:01\r\u001b[K     |████████▍                       | 245kB 6.1MB/s eta 0:00:01\r\u001b[K     |████████▉                       | 256kB 6.1MB/s eta 0:00:01\r\u001b[K     |█████████▏                      | 266kB 6.1MB/s eta 0:00:01\r\u001b[K     |█████████▌                      | 276kB 6.1MB/s eta 0:00:01\r\u001b[K     |█████████▉                      | 286kB 6.1MB/s eta 0:00:01\r\u001b[K     |██████████▏                     | 296kB 6.1MB/s eta 0:00:01\r\u001b[K     |██████████▌                     | 307kB 6.1MB/s eta 0:00:01\r\u001b[K     |██████████▉                     | 317kB 6.1MB/s eta 0:00:01\r\u001b[K     |███████████▎                    | 327kB 6.1MB/s eta 0:00:01\r\u001b[K     |███████████▋                    | 337kB 6.1MB/s eta 0:00:01\r\u001b[K     |████████████                    | 348kB 6.1MB/s eta 0:00:01\r\u001b[K     |████████████▎                   | 358kB 6.1MB/s eta 0:00:01\r\u001b[K     |████████████▋                   | 368kB 6.1MB/s eta 0:00:01\r\u001b[K     |█████████████                   | 378kB 6.1MB/s eta 0:00:01\r\u001b[K     |█████████████▍                  | 389kB 6.1MB/s eta 0:00:01\r\u001b[K     |█████████████▊                  | 399kB 6.1MB/s eta 0:00:01\r\u001b[K     |██████████████                  | 409kB 6.1MB/s eta 0:00:01\r\u001b[K     |██████████████▍                 | 419kB 6.1MB/s eta 0:00:01\r\u001b[K     |██████████████▊                 | 430kB 6.1MB/s eta 0:00:01\r\u001b[K     |███████████████                 | 440kB 6.1MB/s eta 0:00:01\r\u001b[K     |███████████████▌                | 450kB 6.1MB/s eta 0:00:01\r\u001b[K     |███████████████▉                | 460kB 6.1MB/s eta 0:00:01\r\u001b[K     |████████████████▏               | 471kB 6.1MB/s eta 0:00:01\r\u001b[K     |████████████████▌               | 481kB 6.1MB/s eta 0:00:01\r\u001b[K     |████████████████▉               | 491kB 6.1MB/s eta 0:00:01\r\u001b[K     |█████████████████▏              | 501kB 6.1MB/s eta 0:00:01\r\u001b[K     |█████████████████▋              | 512kB 6.1MB/s eta 0:00:01\r\u001b[K     |██████████████████              | 522kB 6.1MB/s eta 0:00:01\r\u001b[K     |██████████████████▎             | 532kB 6.1MB/s eta 0:00:01\r\u001b[K     |██████████████████▋             | 542kB 6.1MB/s eta 0:00:01\r\u001b[K     |███████████████████             | 552kB 6.1MB/s eta 0:00:01\r\u001b[K     |███████████████████▎            | 563kB 6.1MB/s eta 0:00:01\r\u001b[K     |███████████████████▊            | 573kB 6.1MB/s eta 0:00:01\r\u001b[K     |████████████████████            | 583kB 6.1MB/s eta 0:00:01\r\u001b[K     |████████████████████▍           | 593kB 6.1MB/s eta 0:00:01\r\u001b[K     |████████████████████▊           | 604kB 6.1MB/s eta 0:00:01\r\u001b[K     |█████████████████████           | 614kB 6.1MB/s eta 0:00:01\r\u001b[K     |█████████████████████▍          | 624kB 6.1MB/s eta 0:00:01\r\u001b[K     |█████████████████████▊          | 634kB 6.1MB/s eta 0:00:01\r\u001b[K     |██████████████████████▏         | 645kB 6.1MB/s eta 0:00:01\r\u001b[K     |██████████████████████▌         | 655kB 6.1MB/s eta 0:00:01\r\u001b[K     |██████████████████████▉         | 665kB 6.1MB/s eta 0:00:01\r\u001b[K     |███████████████████████▏        | 675kB 6.1MB/s eta 0:00:01\r\u001b[K     |███████████████████████▌        | 686kB 6.1MB/s eta 0:00:01\r\u001b[K     |███████████████████████▉        | 696kB 6.1MB/s eta 0:00:01\r\u001b[K     |████████████████████████▎       | 706kB 6.1MB/s eta 0:00:01\r\u001b[K     |████████████████████████▋       | 716kB 6.1MB/s eta 0:00:01\r\u001b[K     |█████████████████████████       | 727kB 6.1MB/s eta 0:00:01\r\u001b[K     |█████████████████████████▎      | 737kB 6.1MB/s eta 0:00:01\r\u001b[K     |█████████████████████████▋      | 747kB 6.1MB/s eta 0:00:01\r\u001b[K     |██████████████████████████      | 757kB 6.1MB/s eta 0:00:01\r\u001b[K     |██████████████████████████▍     | 768kB 6.1MB/s eta 0:00:01\r\u001b[K     |██████████████████████████▊     | 778kB 6.1MB/s eta 0:00:01\r\u001b[K     |███████████████████████████     | 788kB 6.1MB/s eta 0:00:01\r\u001b[K     |███████████████████████████▍    | 798kB 6.1MB/s eta 0:00:01\r\u001b[K     |███████████████████████████▊    | 808kB 6.1MB/s eta 0:00:01\r\u001b[K     |████████████████████████████    | 819kB 6.1MB/s eta 0:00:01\r\u001b[K     |████████████████████████████▌   | 829kB 6.1MB/s eta 0:00:01\r\u001b[K     |████████████████████████████▉   | 839kB 6.1MB/s eta 0:00:01\r\u001b[K     |█████████████████████████████▏  | 849kB 6.1MB/s eta 0:00:01\r\u001b[K     |█████████████████████████████▌  | 860kB 6.1MB/s eta 0:00:01\r\u001b[K     |█████████████████████████████▉  | 870kB 6.1MB/s eta 0:00:01\r\u001b[K     |██████████████████████████████▏ | 880kB 6.1MB/s eta 0:00:01\r\u001b[K     |██████████████████████████████▋ | 890kB 6.1MB/s eta 0:00:01\r\u001b[K     |███████████████████████████████ | 901kB 6.1MB/s eta 0:00:01\r\u001b[K     |███████████████████████████████▎| 911kB 6.1MB/s eta 0:00:01\r\u001b[K     |███████████████████████████████▋| 921kB 6.1MB/s eta 0:00:01\r\u001b[K     |████████████████████████████████| 931kB 6.1MB/s eta 0:00:01\r\u001b[K     |████████████████████████████████| 942kB 6.1MB/s \n",
      "\u001b[?25h  Installing build dependencies ... \u001b[?25l\u001b[?25hdone\n",
      "  Getting requirements to build wheel ... \u001b[?25l\u001b[?25hdone\n",
      "    Preparing wheel metadata ... \u001b[?25l\u001b[?25hdone\n",
      "Requirement already satisfied: cython>=0.29.6 in /usr/local/lib/python3.7/dist-packages (from dtaidistance) (0.29.22)\n",
      "Building wheels for collected packages: dtaidistance\n",
      "  Building wheel for dtaidistance (PEP 517) ... \u001b[?25l\u001b[?25hdone\n",
      "  Created wheel for dtaidistance: filename=dtaidistance-2.2.5-cp37-cp37m-linux_x86_64.whl size=1552466 sha256=66358913476fdb1b7e8b5525a2c5e8b564c4885ceee9ef441012a1b4f49e1ff3\n",
      "  Stored in directory: /root/.cache/pip/wheels/f8/37/a3/5b68a20ca502772e5affea6be75bf964ad9f481fdc54f28627\n",
      "Successfully built dtaidistance\n",
      "Installing collected packages: dtaidistance\n",
      "Successfully installed dtaidistance-2.2.5\n",
      "Collecting cesium\n",
      "\u001b[?25l  Downloading https://files.pythonhosted.org/packages/c8/73/c998e9983df653e49238a7da0956bb375b23d0559f01f411cca2220a44f7/cesium-0.9.12-cp37-cp37m-manylinux1_x86_64.whl (220kB)\n",
      "\u001b[K     |████████████████████████████████| 225kB 6.6MB/s \n",
      "\u001b[?25hRequirement already satisfied: pandas>=0.17.0 in /usr/local/lib/python3.7/dist-packages (from cesium) (1.1.5)\n",
      "Requirement already satisfied: dask>=2.5.0 in /usr/local/lib/python3.7/dist-packages (from cesium) (2.12.0)\n",
      "Requirement already satisfied: cloudpickle in /usr/local/lib/python3.7/dist-packages (from cesium) (1.3.0)\n",
      "Requirement already satisfied: joblib>=0.14.1 in /usr/local/lib/python3.7/dist-packages (from cesium) (1.0.1)\n",
      "Requirement already satisfied: scikit-learn>=0.22.1 in /usr/local/lib/python3.7/dist-packages (from cesium) (0.22.2.post1)\n",
      "Requirement already satisfied: scipy>=0.16.0 in /usr/local/lib/python3.7/dist-packages (from cesium) (1.4.1)\n",
      "Requirement already satisfied: toolz in /usr/local/lib/python3.7/dist-packages (from cesium) (0.11.1)\n",
      "Collecting gatspy>=0.3.0\n",
      "\u001b[?25l  Downloading https://files.pythonhosted.org/packages/b0/fa/a075f6cd3f40255a883e8a966df17322825f6b86cb4907edce06098aa566/gatspy-0.3.tar.gz (554kB)\n",
      "\u001b[K     |████████████████████████████████| 563kB 7.9MB/s \n",
      "\u001b[?25hRequirement already satisfied: python-dateutil>=2.7.3 in /usr/local/lib/python3.7/dist-packages (from pandas>=0.17.0->cesium) (2.8.1)\n",
      "Requirement already satisfied: pytz>=2017.2 in /usr/local/lib/python3.7/dist-packages (from pandas>=0.17.0->cesium) (2018.9)\n",
      "Requirement already satisfied: numpy>=1.15.4 in /usr/local/lib/python3.7/dist-packages (from pandas>=0.17.0->cesium) (1.19.5)\n",
      "Requirement already satisfied: six>=1.5 in /usr/local/lib/python3.7/dist-packages (from python-dateutil>=2.7.3->pandas>=0.17.0->cesium) (1.15.0)\n",
      "Building wheels for collected packages: gatspy\n",
      "  Building wheel for gatspy (setup.py) ... \u001b[?25l\u001b[?25hdone\n",
      "  Created wheel for gatspy: filename=gatspy-0.3-cp37-none-any.whl size=43807 sha256=4e358a50bd164442beb9987eba0c07ec3bbf9b3c57517b9f0e9f52302fc6272e\n",
      "  Stored in directory: /root/.cache/pip/wheels/4f/8f/fa/0d7b250ef21828ca373b21f6b3b6ef0f2a0e3560b69c91e55d\n",
      "Successfully built gatspy\n",
      "Installing collected packages: gatspy, cesium\n",
      "Successfully installed cesium-0.9.12 gatspy-0.3\n"
     ]
    }
   ],
   "source": [
    "!pip install dtaidistance\n",
    "!pip install cesium"
   ]
  },
  {
   "cell_type": "code",
   "execution_count": null,
   "metadata": {
    "id": "8QoW7khsyoqF"
   },
   "outputs": [],
   "source": [
    "%matplotlib inline\n",
    "import matplotlib.pyplot as plt\n",
    "plt.rcParams['figure.figsize'] = [15, 10]\n",
    "\n",
    "from math import sqrt\n",
    "\n",
    "from datetime import datetime\n",
    "import pandas as pd\n",
    "import numpy as np\n",
    "import pdb\n",
    "\n",
    "\n",
    "from scipy.cluster.hierarchy import dendrogram, linkage\n",
    "from scipy.spatial.distance import squareform\n",
    "\n",
    "from sklearn.metrics.pairwise import pairwise_distances\n",
    "from sklearn import preprocessing\n",
    "from sklearn.cluster import AgglomerativeClustering\n",
    "from sklearn.metrics.cluster import homogeneity_score, completeness_score\n",
    "from sklearn.metrics.cluster import contingency_matrix\n",
    "from sklearn.metrics.cluster import homogeneity_score\n",
    "\n",
    "from dtaidistance import dtw\n",
    "\n",
    "from collections import Counter\n",
    "\n",
    "from scipy.stats import pearsonr"
   ]
  },
  {
   "cell_type": "markdown",
   "metadata": {
    "id": "RThOptzyyoqF"
   },
   "source": [
    "## The data"
   ]
  },
  {
   "cell_type": "code",
   "execution_count": null,
   "metadata": {
    "id": "eZlI_tvsyoqF"
   },
   "outputs": [],
   "source": [
    "words = pd.read_csv('https://raw.githubusercontent.com/AileenNielsen/TimeSeriesAnalysisWithPython/master/data/50words_TEST.csv',\n",
    "                    header = None)"
   ]
  },
  {
   "cell_type": "code",
   "execution_count": null,
   "metadata": {
    "id": "HHDH4QdRyoqG"
   },
   "outputs": [],
   "source": [
    "words.rename(columns = {0:'word'}, inplace = True) "
   ]
  },
  {
   "cell_type": "code",
   "execution_count": null,
   "metadata": {
    "colab": {
     "base_uri": "https://localhost:8080/",
     "height": 439
    },
    "id": "TMMZrk4MyoqG",
    "outputId": "6b9b7df3-985c-4d9a-af5f-9e60b4a79a1f"
   },
   "outputs": [
    {
     "data": {
      "text/html": [
       "<div>\n",
       "<style scoped>\n",
       "    .dataframe tbody tr th:only-of-type {\n",
       "        vertical-align: middle;\n",
       "    }\n",
       "\n",
       "    .dataframe tbody tr th {\n",
       "        vertical-align: top;\n",
       "    }\n",
       "\n",
       "    .dataframe thead th {\n",
       "        text-align: right;\n",
       "    }\n",
       "</style>\n",
       "<table border=\"1\" class=\"dataframe\">\n",
       "  <thead>\n",
       "    <tr style=\"text-align: right;\">\n",
       "      <th></th>\n",
       "      <th>word</th>\n",
       "      <th>1</th>\n",
       "      <th>2</th>\n",
       "      <th>3</th>\n",
       "      <th>4</th>\n",
       "      <th>5</th>\n",
       "      <th>6</th>\n",
       "      <th>7</th>\n",
       "      <th>8</th>\n",
       "      <th>9</th>\n",
       "      <th>10</th>\n",
       "      <th>11</th>\n",
       "      <th>12</th>\n",
       "      <th>13</th>\n",
       "      <th>14</th>\n",
       "      <th>15</th>\n",
       "      <th>16</th>\n",
       "      <th>17</th>\n",
       "      <th>18</th>\n",
       "      <th>19</th>\n",
       "      <th>20</th>\n",
       "      <th>21</th>\n",
       "      <th>22</th>\n",
       "      <th>23</th>\n",
       "      <th>24</th>\n",
       "      <th>25</th>\n",
       "      <th>26</th>\n",
       "      <th>27</th>\n",
       "      <th>28</th>\n",
       "      <th>29</th>\n",
       "      <th>30</th>\n",
       "      <th>31</th>\n",
       "      <th>32</th>\n",
       "      <th>33</th>\n",
       "      <th>34</th>\n",
       "      <th>35</th>\n",
       "      <th>36</th>\n",
       "      <th>37</th>\n",
       "      <th>38</th>\n",
       "      <th>39</th>\n",
       "      <th>...</th>\n",
       "      <th>231</th>\n",
       "      <th>232</th>\n",
       "      <th>233</th>\n",
       "      <th>234</th>\n",
       "      <th>235</th>\n",
       "      <th>236</th>\n",
       "      <th>237</th>\n",
       "      <th>238</th>\n",
       "      <th>239</th>\n",
       "      <th>240</th>\n",
       "      <th>241</th>\n",
       "      <th>242</th>\n",
       "      <th>243</th>\n",
       "      <th>244</th>\n",
       "      <th>245</th>\n",
       "      <th>246</th>\n",
       "      <th>247</th>\n",
       "      <th>248</th>\n",
       "      <th>249</th>\n",
       "      <th>250</th>\n",
       "      <th>251</th>\n",
       "      <th>252</th>\n",
       "      <th>253</th>\n",
       "      <th>254</th>\n",
       "      <th>255</th>\n",
       "      <th>256</th>\n",
       "      <th>257</th>\n",
       "      <th>258</th>\n",
       "      <th>259</th>\n",
       "      <th>260</th>\n",
       "      <th>261</th>\n",
       "      <th>262</th>\n",
       "      <th>263</th>\n",
       "      <th>264</th>\n",
       "      <th>265</th>\n",
       "      <th>266</th>\n",
       "      <th>267</th>\n",
       "      <th>268</th>\n",
       "      <th>269</th>\n",
       "      <th>270</th>\n",
       "    </tr>\n",
       "  </thead>\n",
       "  <tbody>\n",
       "    <tr>\n",
       "      <th>0</th>\n",
       "      <td>4</td>\n",
       "      <td>-0.89094</td>\n",
       "      <td>-0.86099</td>\n",
       "      <td>-0.82438</td>\n",
       "      <td>-0.78214</td>\n",
       "      <td>-0.73573</td>\n",
       "      <td>-0.68691</td>\n",
       "      <td>-0.637540</td>\n",
       "      <td>-0.589370</td>\n",
       "      <td>-0.543420</td>\n",
       "      <td>-0.500440</td>\n",
       "      <td>-0.460820</td>\n",
       "      <td>-0.424690</td>\n",
       "      <td>-0.39240</td>\n",
       "      <td>-0.36389</td>\n",
       "      <td>-0.339060</td>\n",
       "      <td>-0.317950</td>\n",
       "      <td>-0.300560</td>\n",
       "      <td>-0.286920</td>\n",
       "      <td>-0.277270</td>\n",
       "      <td>-0.271050</td>\n",
       "      <td>-0.267770</td>\n",
       "      <td>-0.266780</td>\n",
       "      <td>-0.267420</td>\n",
       "      <td>-0.269270</td>\n",
       "      <td>-0.272020</td>\n",
       "      <td>-0.275290</td>\n",
       "      <td>-0.278980</td>\n",
       "      <td>-0.283200</td>\n",
       "      <td>-0.288140</td>\n",
       "      <td>-0.294310</td>\n",
       "      <td>-0.301850</td>\n",
       "      <td>-0.310860</td>\n",
       "      <td>-0.321350</td>\n",
       "      <td>-0.333260</td>\n",
       "      <td>-0.346500</td>\n",
       "      <td>-0.361030</td>\n",
       "      <td>-0.376590</td>\n",
       "      <td>-0.39297</td>\n",
       "      <td>-0.409950</td>\n",
       "      <td>...</td>\n",
       "      <td>0.052471</td>\n",
       "      <td>-0.01492</td>\n",
       "      <td>-0.082568</td>\n",
       "      <td>-0.14848</td>\n",
       "      <td>-0.21193</td>\n",
       "      <td>-0.27229</td>\n",
       "      <td>-0.32905</td>\n",
       "      <td>-0.38303</td>\n",
       "      <td>-0.432220</td>\n",
       "      <td>-0.476280</td>\n",
       "      <td>-0.515870</td>\n",
       "      <td>-0.55188</td>\n",
       "      <td>-0.58534</td>\n",
       "      <td>-0.61763</td>\n",
       "      <td>-0.64653</td>\n",
       "      <td>-0.67227</td>\n",
       "      <td>-0.69521</td>\n",
       "      <td>-0.71576</td>\n",
       "      <td>-0.735170</td>\n",
       "      <td>-0.752860</td>\n",
       "      <td>-0.76798</td>\n",
       "      <td>-0.78120</td>\n",
       "      <td>-0.79326</td>\n",
       "      <td>-0.80474</td>\n",
       "      <td>-0.81719</td>\n",
       "      <td>-0.82831</td>\n",
       "      <td>-0.837680</td>\n",
       "      <td>-0.845380</td>\n",
       "      <td>-0.85165</td>\n",
       "      <td>-0.85731</td>\n",
       "      <td>-0.86309</td>\n",
       "      <td>-0.86791</td>\n",
       "      <td>-0.87271</td>\n",
       "      <td>-0.87846</td>\n",
       "      <td>-0.88592</td>\n",
       "      <td>-0.89619</td>\n",
       "      <td>-0.90783</td>\n",
       "      <td>-0.91942</td>\n",
       "      <td>-0.93018</td>\n",
       "      <td>-0.93939</td>\n",
       "    </tr>\n",
       "    <tr>\n",
       "      <th>1</th>\n",
       "      <td>12</td>\n",
       "      <td>-0.78346</td>\n",
       "      <td>-0.68562</td>\n",
       "      <td>-0.58409</td>\n",
       "      <td>-0.47946</td>\n",
       "      <td>-0.37398</td>\n",
       "      <td>-0.27008</td>\n",
       "      <td>-0.172250</td>\n",
       "      <td>-0.087463</td>\n",
       "      <td>-0.019191</td>\n",
       "      <td>0.035301</td>\n",
       "      <td>0.080601</td>\n",
       "      <td>0.121210</td>\n",
       "      <td>0.16167</td>\n",
       "      <td>0.20223</td>\n",
       "      <td>0.239730</td>\n",
       "      <td>0.273860</td>\n",
       "      <td>0.305240</td>\n",
       "      <td>0.334170</td>\n",
       "      <td>0.364750</td>\n",
       "      <td>0.399670</td>\n",
       "      <td>0.436950</td>\n",
       "      <td>0.474700</td>\n",
       "      <td>0.509190</td>\n",
       "      <td>0.534400</td>\n",
       "      <td>0.547550</td>\n",
       "      <td>0.549650</td>\n",
       "      <td>0.542360</td>\n",
       "      <td>0.529090</td>\n",
       "      <td>0.515230</td>\n",
       "      <td>0.503070</td>\n",
       "      <td>0.491830</td>\n",
       "      <td>0.482130</td>\n",
       "      <td>0.472450</td>\n",
       "      <td>0.459290</td>\n",
       "      <td>0.443090</td>\n",
       "      <td>0.424040</td>\n",
       "      <td>0.400530</td>\n",
       "      <td>0.37585</td>\n",
       "      <td>0.351890</td>\n",
       "      <td>...</td>\n",
       "      <td>0.711070</td>\n",
       "      <td>0.64773</td>\n",
       "      <td>0.579890</td>\n",
       "      <td>0.50674</td>\n",
       "      <td>0.42767</td>\n",
       "      <td>0.34155</td>\n",
       "      <td>0.24849</td>\n",
       "      <td>0.15221</td>\n",
       "      <td>0.056228</td>\n",
       "      <td>-0.036684</td>\n",
       "      <td>-0.123520</td>\n",
       "      <td>-0.20472</td>\n",
       "      <td>-0.28299</td>\n",
       "      <td>-0.35917</td>\n",
       "      <td>-0.43397</td>\n",
       "      <td>-0.50794</td>\n",
       "      <td>-0.57864</td>\n",
       "      <td>-0.64302</td>\n",
       "      <td>-0.700170</td>\n",
       "      <td>-0.749010</td>\n",
       "      <td>-0.78785</td>\n",
       "      <td>-0.81818</td>\n",
       "      <td>-0.84200</td>\n",
       "      <td>-0.85809</td>\n",
       "      <td>-0.86830</td>\n",
       "      <td>-0.87519</td>\n",
       "      <td>-0.877210</td>\n",
       "      <td>-0.876610</td>\n",
       "      <td>-0.87728</td>\n",
       "      <td>-0.87899</td>\n",
       "      <td>-0.88318</td>\n",
       "      <td>-0.89189</td>\n",
       "      <td>-0.90290</td>\n",
       "      <td>-0.91427</td>\n",
       "      <td>-0.92668</td>\n",
       "      <td>-0.93966</td>\n",
       "      <td>-0.95244</td>\n",
       "      <td>-0.96623</td>\n",
       "      <td>-0.98050</td>\n",
       "      <td>-0.99178</td>\n",
       "    </tr>\n",
       "    <tr>\n",
       "      <th>2</th>\n",
       "      <td>13</td>\n",
       "      <td>-1.32560</td>\n",
       "      <td>-1.28430</td>\n",
       "      <td>-1.21970</td>\n",
       "      <td>-1.15670</td>\n",
       "      <td>-1.09980</td>\n",
       "      <td>-1.04960</td>\n",
       "      <td>-1.015500</td>\n",
       "      <td>-0.996720</td>\n",
       "      <td>-0.985040</td>\n",
       "      <td>-0.971990</td>\n",
       "      <td>-0.964030</td>\n",
       "      <td>-0.963550</td>\n",
       "      <td>-0.96236</td>\n",
       "      <td>-0.95077</td>\n",
       "      <td>-0.917330</td>\n",
       "      <td>-0.871050</td>\n",
       "      <td>-0.817930</td>\n",
       "      <td>-0.760640</td>\n",
       "      <td>-0.701060</td>\n",
       "      <td>-0.644150</td>\n",
       "      <td>-0.594710</td>\n",
       "      <td>-0.529310</td>\n",
       "      <td>-0.409210</td>\n",
       "      <td>-0.205990</td>\n",
       "      <td>0.066333</td>\n",
       "      <td>0.344810</td>\n",
       "      <td>0.565100</td>\n",
       "      <td>0.703590</td>\n",
       "      <td>0.785270</td>\n",
       "      <td>0.840450</td>\n",
       "      <td>0.870940</td>\n",
       "      <td>0.857640</td>\n",
       "      <td>0.775790</td>\n",
       "      <td>0.634510</td>\n",
       "      <td>0.480380</td>\n",
       "      <td>0.351620</td>\n",
       "      <td>0.241000</td>\n",
       "      <td>0.11593</td>\n",
       "      <td>-0.022140</td>\n",
       "      <td>...</td>\n",
       "      <td>-0.443510</td>\n",
       "      <td>-0.43741</td>\n",
       "      <td>-0.444480</td>\n",
       "      <td>-0.45708</td>\n",
       "      <td>-0.46691</td>\n",
       "      <td>-0.47419</td>\n",
       "      <td>-0.47495</td>\n",
       "      <td>-0.46916</td>\n",
       "      <td>-0.456730</td>\n",
       "      <td>-0.439730</td>\n",
       "      <td>-0.421350</td>\n",
       "      <td>-0.40614</td>\n",
       "      <td>-0.40352</td>\n",
       "      <td>-0.41293</td>\n",
       "      <td>-0.42965</td>\n",
       "      <td>-0.44611</td>\n",
       "      <td>-0.45623</td>\n",
       "      <td>-0.46585</td>\n",
       "      <td>-0.484310</td>\n",
       "      <td>-0.520100</td>\n",
       "      <td>-0.56853</td>\n",
       "      <td>-0.61788</td>\n",
       "      <td>-0.65943</td>\n",
       "      <td>-0.68651</td>\n",
       "      <td>-0.70204</td>\n",
       "      <td>-0.71318</td>\n",
       "      <td>-0.726460</td>\n",
       "      <td>-0.745680</td>\n",
       "      <td>-0.77144</td>\n",
       "      <td>-0.80390</td>\n",
       "      <td>-0.83499</td>\n",
       "      <td>-0.86204</td>\n",
       "      <td>-0.88559</td>\n",
       "      <td>-0.90454</td>\n",
       "      <td>-0.93353</td>\n",
       "      <td>-0.99135</td>\n",
       "      <td>-1.06910</td>\n",
       "      <td>-1.13680</td>\n",
       "      <td>-1.19800</td>\n",
       "      <td>-1.27000</td>\n",
       "    </tr>\n",
       "    <tr>\n",
       "      <th>3</th>\n",
       "      <td>23</td>\n",
       "      <td>-1.09370</td>\n",
       "      <td>-1.04200</td>\n",
       "      <td>-0.99840</td>\n",
       "      <td>-0.95997</td>\n",
       "      <td>-0.93997</td>\n",
       "      <td>-0.93764</td>\n",
       "      <td>-0.926490</td>\n",
       "      <td>-0.857090</td>\n",
       "      <td>-0.693320</td>\n",
       "      <td>-0.312890</td>\n",
       "      <td>0.339420</td>\n",
       "      <td>0.989090</td>\n",
       "      <td>1.33000</td>\n",
       "      <td>1.34950</td>\n",
       "      <td>1.222900</td>\n",
       "      <td>1.044500</td>\n",
       "      <td>0.829670</td>\n",
       "      <td>0.602100</td>\n",
       "      <td>0.365250</td>\n",
       "      <td>0.128330</td>\n",
       "      <td>-0.046387</td>\n",
       "      <td>-0.165640</td>\n",
       "      <td>-0.265030</td>\n",
       "      <td>-0.362500</td>\n",
       "      <td>-0.449520</td>\n",
       "      <td>-0.510830</td>\n",
       "      <td>-0.562550</td>\n",
       "      <td>-0.608530</td>\n",
       "      <td>-0.635880</td>\n",
       "      <td>-0.632320</td>\n",
       "      <td>-0.597000</td>\n",
       "      <td>-0.520320</td>\n",
       "      <td>-0.427310</td>\n",
       "      <td>-0.291990</td>\n",
       "      <td>-0.066752</td>\n",
       "      <td>0.241280</td>\n",
       "      <td>0.610500</td>\n",
       "      <td>0.96181</td>\n",
       "      <td>1.211600</td>\n",
       "      <td>...</td>\n",
       "      <td>1.115600</td>\n",
       "      <td>1.76630</td>\n",
       "      <td>2.558000</td>\n",
       "      <td>3.33430</td>\n",
       "      <td>3.84940</td>\n",
       "      <td>3.90180</td>\n",
       "      <td>3.62190</td>\n",
       "      <td>3.18950</td>\n",
       "      <td>2.623000</td>\n",
       "      <td>2.031000</td>\n",
       "      <td>1.497900</td>\n",
       "      <td>1.00600</td>\n",
       "      <td>0.55445</td>\n",
       "      <td>0.16993</td>\n",
       "      <td>-0.12355</td>\n",
       "      <td>-0.31586</td>\n",
       "      <td>-0.43344</td>\n",
       "      <td>-0.50570</td>\n",
       "      <td>-0.532680</td>\n",
       "      <td>-0.536880</td>\n",
       "      <td>-0.54374</td>\n",
       "      <td>-0.56792</td>\n",
       "      <td>-0.60857</td>\n",
       "      <td>-0.63638</td>\n",
       "      <td>-0.64471</td>\n",
       "      <td>-0.64440</td>\n",
       "      <td>-0.653820</td>\n",
       "      <td>-0.669570</td>\n",
       "      <td>-0.69135</td>\n",
       "      <td>-0.71082</td>\n",
       "      <td>-0.72810</td>\n",
       "      <td>-0.74512</td>\n",
       "      <td>-0.76376</td>\n",
       "      <td>-0.78068</td>\n",
       "      <td>-0.80593</td>\n",
       "      <td>-0.84350</td>\n",
       "      <td>-0.89531</td>\n",
       "      <td>-0.96052</td>\n",
       "      <td>-1.05090</td>\n",
       "      <td>-1.12830</td>\n",
       "    </tr>\n",
       "    <tr>\n",
       "      <th>4</th>\n",
       "      <td>4</td>\n",
       "      <td>-0.90138</td>\n",
       "      <td>-0.85228</td>\n",
       "      <td>-0.80196</td>\n",
       "      <td>-0.74932</td>\n",
       "      <td>-0.69298</td>\n",
       "      <td>-0.63316</td>\n",
       "      <td>-0.570380</td>\n",
       "      <td>-0.506920</td>\n",
       "      <td>-0.446040</td>\n",
       "      <td>-0.390180</td>\n",
       "      <td>-0.339310</td>\n",
       "      <td>-0.292310</td>\n",
       "      <td>-0.24833</td>\n",
       "      <td>-0.20635</td>\n",
       "      <td>-0.165850</td>\n",
       "      <td>-0.127190</td>\n",
       "      <td>-0.091931</td>\n",
       "      <td>-0.059946</td>\n",
       "      <td>-0.030921</td>\n",
       "      <td>-0.004628</td>\n",
       "      <td>0.018364</td>\n",
       "      <td>0.038239</td>\n",
       "      <td>0.054732</td>\n",
       "      <td>0.067206</td>\n",
       "      <td>0.075442</td>\n",
       "      <td>0.080507</td>\n",
       "      <td>0.083344</td>\n",
       "      <td>0.083628</td>\n",
       "      <td>0.081179</td>\n",
       "      <td>0.075684</td>\n",
       "      <td>0.066456</td>\n",
       "      <td>0.051670</td>\n",
       "      <td>0.032078</td>\n",
       "      <td>0.008739</td>\n",
       "      <td>-0.017323</td>\n",
       "      <td>-0.046021</td>\n",
       "      <td>-0.075800</td>\n",
       "      <td>-0.10581</td>\n",
       "      <td>-0.136220</td>\n",
       "      <td>...</td>\n",
       "      <td>-0.394410</td>\n",
       "      <td>-0.37672</td>\n",
       "      <td>-0.357160</td>\n",
       "      <td>-0.33905</td>\n",
       "      <td>-0.32255</td>\n",
       "      <td>-0.30807</td>\n",
       "      <td>-0.29818</td>\n",
       "      <td>-0.29607</td>\n",
       "      <td>-0.300260</td>\n",
       "      <td>-0.310800</td>\n",
       "      <td>-0.328090</td>\n",
       "      <td>-0.35262</td>\n",
       "      <td>-0.38035</td>\n",
       "      <td>-0.41034</td>\n",
       "      <td>-0.44236</td>\n",
       "      <td>-0.47573</td>\n",
       "      <td>-0.50864</td>\n",
       "      <td>-0.54145</td>\n",
       "      <td>-0.575060</td>\n",
       "      <td>-0.608890</td>\n",
       "      <td>-0.64237</td>\n",
       "      <td>-0.67593</td>\n",
       "      <td>-0.71042</td>\n",
       "      <td>-0.74502</td>\n",
       "      <td>-0.77959</td>\n",
       "      <td>-0.81402</td>\n",
       "      <td>-0.848050</td>\n",
       "      <td>-0.879590</td>\n",
       "      <td>-0.90785</td>\n",
       "      <td>-0.93276</td>\n",
       "      <td>-0.95452</td>\n",
       "      <td>-0.97322</td>\n",
       "      <td>-0.98984</td>\n",
       "      <td>-1.00520</td>\n",
       "      <td>-1.01880</td>\n",
       "      <td>-1.02960</td>\n",
       "      <td>-1.03700</td>\n",
       "      <td>-1.04110</td>\n",
       "      <td>-1.04180</td>\n",
       "      <td>-1.04030</td>\n",
       "    </tr>\n",
       "    <tr>\n",
       "      <th>...</th>\n",
       "      <td>...</td>\n",
       "      <td>...</td>\n",
       "      <td>...</td>\n",
       "      <td>...</td>\n",
       "      <td>...</td>\n",
       "      <td>...</td>\n",
       "      <td>...</td>\n",
       "      <td>...</td>\n",
       "      <td>...</td>\n",
       "      <td>...</td>\n",
       "      <td>...</td>\n",
       "      <td>...</td>\n",
       "      <td>...</td>\n",
       "      <td>...</td>\n",
       "      <td>...</td>\n",
       "      <td>...</td>\n",
       "      <td>...</td>\n",
       "      <td>...</td>\n",
       "      <td>...</td>\n",
       "      <td>...</td>\n",
       "      <td>...</td>\n",
       "      <td>...</td>\n",
       "      <td>...</td>\n",
       "      <td>...</td>\n",
       "      <td>...</td>\n",
       "      <td>...</td>\n",
       "      <td>...</td>\n",
       "      <td>...</td>\n",
       "      <td>...</td>\n",
       "      <td>...</td>\n",
       "      <td>...</td>\n",
       "      <td>...</td>\n",
       "      <td>...</td>\n",
       "      <td>...</td>\n",
       "      <td>...</td>\n",
       "      <td>...</td>\n",
       "      <td>...</td>\n",
       "      <td>...</td>\n",
       "      <td>...</td>\n",
       "      <td>...</td>\n",
       "      <td>...</td>\n",
       "      <td>...</td>\n",
       "      <td>...</td>\n",
       "      <td>...</td>\n",
       "      <td>...</td>\n",
       "      <td>...</td>\n",
       "      <td>...</td>\n",
       "      <td>...</td>\n",
       "      <td>...</td>\n",
       "      <td>...</td>\n",
       "      <td>...</td>\n",
       "      <td>...</td>\n",
       "      <td>...</td>\n",
       "      <td>...</td>\n",
       "      <td>...</td>\n",
       "      <td>...</td>\n",
       "      <td>...</td>\n",
       "      <td>...</td>\n",
       "      <td>...</td>\n",
       "      <td>...</td>\n",
       "      <td>...</td>\n",
       "      <td>...</td>\n",
       "      <td>...</td>\n",
       "      <td>...</td>\n",
       "      <td>...</td>\n",
       "      <td>...</td>\n",
       "      <td>...</td>\n",
       "      <td>...</td>\n",
       "      <td>...</td>\n",
       "      <td>...</td>\n",
       "      <td>...</td>\n",
       "      <td>...</td>\n",
       "      <td>...</td>\n",
       "      <td>...</td>\n",
       "      <td>...</td>\n",
       "      <td>...</td>\n",
       "      <td>...</td>\n",
       "      <td>...</td>\n",
       "      <td>...</td>\n",
       "      <td>...</td>\n",
       "      <td>...</td>\n",
       "    </tr>\n",
       "    <tr>\n",
       "      <th>450</th>\n",
       "      <td>11</td>\n",
       "      <td>-0.89862</td>\n",
       "      <td>-0.85293</td>\n",
       "      <td>-0.78905</td>\n",
       "      <td>-0.70726</td>\n",
       "      <td>-0.61085</td>\n",
       "      <td>-0.50441</td>\n",
       "      <td>-0.392470</td>\n",
       "      <td>-0.280390</td>\n",
       "      <td>-0.174080</td>\n",
       "      <td>-0.076882</td>\n",
       "      <td>0.008894</td>\n",
       "      <td>0.081224</td>\n",
       "      <td>0.14049</td>\n",
       "      <td>0.18779</td>\n",
       "      <td>0.223500</td>\n",
       "      <td>0.247470</td>\n",
       "      <td>0.260450</td>\n",
       "      <td>0.263160</td>\n",
       "      <td>0.256140</td>\n",
       "      <td>0.242740</td>\n",
       "      <td>0.226750</td>\n",
       "      <td>0.210640</td>\n",
       "      <td>0.196780</td>\n",
       "      <td>0.186660</td>\n",
       "      <td>0.179380</td>\n",
       "      <td>0.172280</td>\n",
       "      <td>0.164110</td>\n",
       "      <td>0.153280</td>\n",
       "      <td>0.136730</td>\n",
       "      <td>0.114840</td>\n",
       "      <td>0.088567</td>\n",
       "      <td>0.058478</td>\n",
       "      <td>0.026118</td>\n",
       "      <td>-0.005642</td>\n",
       "      <td>-0.035135</td>\n",
       "      <td>-0.062688</td>\n",
       "      <td>-0.087383</td>\n",
       "      <td>-0.10948</td>\n",
       "      <td>-0.131200</td>\n",
       "      <td>...</td>\n",
       "      <td>-0.694180</td>\n",
       "      <td>-0.70144</td>\n",
       "      <td>-0.707840</td>\n",
       "      <td>-0.71394</td>\n",
       "      <td>-0.71998</td>\n",
       "      <td>-0.72433</td>\n",
       "      <td>-0.72729</td>\n",
       "      <td>-0.72966</td>\n",
       "      <td>-0.730690</td>\n",
       "      <td>-0.730800</td>\n",
       "      <td>-0.731150</td>\n",
       "      <td>-0.73229</td>\n",
       "      <td>-0.73443</td>\n",
       "      <td>-0.73821</td>\n",
       "      <td>-0.74402</td>\n",
       "      <td>-0.75053</td>\n",
       "      <td>-0.75720</td>\n",
       "      <td>-0.76379</td>\n",
       "      <td>-0.769460</td>\n",
       "      <td>-0.773960</td>\n",
       "      <td>-0.77752</td>\n",
       "      <td>-0.78013</td>\n",
       "      <td>-0.78155</td>\n",
       "      <td>-0.78244</td>\n",
       "      <td>-0.78402</td>\n",
       "      <td>-0.78688</td>\n",
       "      <td>-0.791820</td>\n",
       "      <td>-0.799050</td>\n",
       "      <td>-0.80765</td>\n",
       "      <td>-0.81679</td>\n",
       "      <td>-0.82681</td>\n",
       "      <td>-0.83912</td>\n",
       "      <td>-0.85513</td>\n",
       "      <td>-0.87581</td>\n",
       "      <td>-0.90009</td>\n",
       "      <td>-0.92415</td>\n",
       "      <td>-0.94357</td>\n",
       "      <td>-0.95528</td>\n",
       "      <td>-0.95874</td>\n",
       "      <td>-0.95623</td>\n",
       "    </tr>\n",
       "    <tr>\n",
       "      <th>451</th>\n",
       "      <td>4</td>\n",
       "      <td>-0.63348</td>\n",
       "      <td>-0.55768</td>\n",
       "      <td>-0.46741</td>\n",
       "      <td>-0.36414</td>\n",
       "      <td>-0.25243</td>\n",
       "      <td>-0.13981</td>\n",
       "      <td>-0.037418</td>\n",
       "      <td>0.049385</td>\n",
       "      <td>0.117580</td>\n",
       "      <td>0.167390</td>\n",
       "      <td>0.201360</td>\n",
       "      <td>0.221120</td>\n",
       "      <td>0.23254</td>\n",
       "      <td>0.23840</td>\n",
       "      <td>0.240210</td>\n",
       "      <td>0.236260</td>\n",
       "      <td>0.222240</td>\n",
       "      <td>0.197480</td>\n",
       "      <td>0.162500</td>\n",
       "      <td>0.121990</td>\n",
       "      <td>0.080388</td>\n",
       "      <td>0.040528</td>\n",
       "      <td>0.005007</td>\n",
       "      <td>-0.024547</td>\n",
       "      <td>-0.044868</td>\n",
       "      <td>-0.053745</td>\n",
       "      <td>-0.050615</td>\n",
       "      <td>-0.037103</td>\n",
       "      <td>-0.015971</td>\n",
       "      <td>0.011371</td>\n",
       "      <td>0.042285</td>\n",
       "      <td>0.075513</td>\n",
       "      <td>0.106420</td>\n",
       "      <td>0.130390</td>\n",
       "      <td>0.143310</td>\n",
       "      <td>0.139480</td>\n",
       "      <td>0.118800</td>\n",
       "      <td>0.07992</td>\n",
       "      <td>0.026598</td>\n",
       "      <td>...</td>\n",
       "      <td>-0.575890</td>\n",
       "      <td>-0.58564</td>\n",
       "      <td>-0.591350</td>\n",
       "      <td>-0.59990</td>\n",
       "      <td>-0.62116</td>\n",
       "      <td>-0.65165</td>\n",
       "      <td>-0.67944</td>\n",
       "      <td>-0.69555</td>\n",
       "      <td>-0.695200</td>\n",
       "      <td>-0.686790</td>\n",
       "      <td>-0.678530</td>\n",
       "      <td>-0.67518</td>\n",
       "      <td>-0.67553</td>\n",
       "      <td>-0.67469</td>\n",
       "      <td>-0.67222</td>\n",
       "      <td>-0.66897</td>\n",
       "      <td>-0.66688</td>\n",
       "      <td>-0.66354</td>\n",
       "      <td>-0.652820</td>\n",
       "      <td>-0.629970</td>\n",
       "      <td>-0.59335</td>\n",
       "      <td>-0.54709</td>\n",
       "      <td>-0.49707</td>\n",
       "      <td>-0.44930</td>\n",
       "      <td>-0.40937</td>\n",
       "      <td>-0.38140</td>\n",
       "      <td>-0.368630</td>\n",
       "      <td>-0.371140</td>\n",
       "      <td>-0.38657</td>\n",
       "      <td>-0.41166</td>\n",
       "      <td>-0.44401</td>\n",
       "      <td>-0.48290</td>\n",
       "      <td>-0.52685</td>\n",
       "      <td>-0.57233</td>\n",
       "      <td>-0.61411</td>\n",
       "      <td>-0.64817</td>\n",
       "      <td>-0.67433</td>\n",
       "      <td>-0.69544</td>\n",
       "      <td>-0.71425</td>\n",
       "      <td>-0.73015</td>\n",
       "    </tr>\n",
       "    <tr>\n",
       "      <th>452</th>\n",
       "      <td>25</td>\n",
       "      <td>-1.10540</td>\n",
       "      <td>-1.08980</td>\n",
       "      <td>-1.06850</td>\n",
       "      <td>-1.05060</td>\n",
       "      <td>-1.03600</td>\n",
       "      <td>-1.02670</td>\n",
       "      <td>-1.024300</td>\n",
       "      <td>-1.021400</td>\n",
       "      <td>-1.015500</td>\n",
       "      <td>-1.010700</td>\n",
       "      <td>-1.006400</td>\n",
       "      <td>-1.001400</td>\n",
       "      <td>-0.99615</td>\n",
       "      <td>-0.98875</td>\n",
       "      <td>-0.979000</td>\n",
       "      <td>-0.968370</td>\n",
       "      <td>-0.956340</td>\n",
       "      <td>-0.945870</td>\n",
       "      <td>-0.940070</td>\n",
       "      <td>-0.936040</td>\n",
       "      <td>-0.930210</td>\n",
       "      <td>-0.922960</td>\n",
       "      <td>-0.916410</td>\n",
       "      <td>-0.911590</td>\n",
       "      <td>-0.909110</td>\n",
       "      <td>-0.906500</td>\n",
       "      <td>-0.893450</td>\n",
       "      <td>-0.866030</td>\n",
       "      <td>-0.831520</td>\n",
       "      <td>-0.780930</td>\n",
       "      <td>-0.711700</td>\n",
       "      <td>-0.636050</td>\n",
       "      <td>-0.558580</td>\n",
       "      <td>-0.502580</td>\n",
       "      <td>-0.467640</td>\n",
       "      <td>-0.424430</td>\n",
       "      <td>-0.362980</td>\n",
       "      <td>-0.27063</td>\n",
       "      <td>-0.110800</td>\n",
       "      <td>...</td>\n",
       "      <td>0.630670</td>\n",
       "      <td>0.75190</td>\n",
       "      <td>0.827710</td>\n",
       "      <td>0.87086</td>\n",
       "      <td>0.88763</td>\n",
       "      <td>0.87961</td>\n",
       "      <td>0.85125</td>\n",
       "      <td>0.80810</td>\n",
       "      <td>0.748570</td>\n",
       "      <td>0.671280</td>\n",
       "      <td>0.586830</td>\n",
       "      <td>0.51246</td>\n",
       "      <td>0.45764</td>\n",
       "      <td>0.41914</td>\n",
       "      <td>0.38476</td>\n",
       "      <td>0.33904</td>\n",
       "      <td>0.26962</td>\n",
       "      <td>0.17698</td>\n",
       "      <td>0.073393</td>\n",
       "      <td>-0.037076</td>\n",
       "      <td>-0.15456</td>\n",
       "      <td>-0.28188</td>\n",
       "      <td>-0.41802</td>\n",
       "      <td>-0.54538</td>\n",
       "      <td>-0.65503</td>\n",
       "      <td>-0.75047</td>\n",
       "      <td>-0.827290</td>\n",
       "      <td>-0.881700</td>\n",
       "      <td>-0.91598</td>\n",
       "      <td>-0.93430</td>\n",
       "      <td>-0.94246</td>\n",
       "      <td>-0.94047</td>\n",
       "      <td>-0.93004</td>\n",
       "      <td>-0.92016</td>\n",
       "      <td>-0.91745</td>\n",
       "      <td>-0.92684</td>\n",
       "      <td>-0.95196</td>\n",
       "      <td>-0.99402</td>\n",
       "      <td>-1.04620</td>\n",
       "      <td>-1.08780</td>\n",
       "    </tr>\n",
       "    <tr>\n",
       "      <th>453</th>\n",
       "      <td>15</td>\n",
       "      <td>-1.54970</td>\n",
       "      <td>-1.49970</td>\n",
       "      <td>-1.43140</td>\n",
       "      <td>-1.34580</td>\n",
       "      <td>-1.24470</td>\n",
       "      <td>-1.13110</td>\n",
       "      <td>-1.008400</td>\n",
       "      <td>-0.880330</td>\n",
       "      <td>-0.750450</td>\n",
       "      <td>-0.621620</td>\n",
       "      <td>-0.496130</td>\n",
       "      <td>-0.375520</td>\n",
       "      <td>-0.26064</td>\n",
       "      <td>-0.15177</td>\n",
       "      <td>-0.048833</td>\n",
       "      <td>0.048284</td>\n",
       "      <td>0.139990</td>\n",
       "      <td>0.226440</td>\n",
       "      <td>0.307590</td>\n",
       "      <td>0.383170</td>\n",
       "      <td>0.452720</td>\n",
       "      <td>0.515640</td>\n",
       "      <td>0.571220</td>\n",
       "      <td>0.619170</td>\n",
       "      <td>0.659220</td>\n",
       "      <td>0.691370</td>\n",
       "      <td>0.715770</td>\n",
       "      <td>0.732780</td>\n",
       "      <td>0.742790</td>\n",
       "      <td>0.746180</td>\n",
       "      <td>0.743630</td>\n",
       "      <td>0.735690</td>\n",
       "      <td>0.722890</td>\n",
       "      <td>0.705670</td>\n",
       "      <td>0.684460</td>\n",
       "      <td>0.659490</td>\n",
       "      <td>0.630960</td>\n",
       "      <td>0.59937</td>\n",
       "      <td>0.565030</td>\n",
       "      <td>...</td>\n",
       "      <td>0.657340</td>\n",
       "      <td>0.59160</td>\n",
       "      <td>0.525020</td>\n",
       "      <td>0.45789</td>\n",
       "      <td>0.39034</td>\n",
       "      <td>0.32240</td>\n",
       "      <td>0.25316</td>\n",
       "      <td>0.18334</td>\n",
       "      <td>0.113360</td>\n",
       "      <td>0.042852</td>\n",
       "      <td>-0.028639</td>\n",
       "      <td>-0.10147</td>\n",
       "      <td>-0.17581</td>\n",
       "      <td>-0.25247</td>\n",
       "      <td>-0.33012</td>\n",
       "      <td>-0.40784</td>\n",
       "      <td>-0.48527</td>\n",
       "      <td>-0.56213</td>\n",
       "      <td>-0.638230</td>\n",
       "      <td>-0.713500</td>\n",
       "      <td>-0.78882</td>\n",
       "      <td>-0.86307</td>\n",
       "      <td>-0.93602</td>\n",
       "      <td>-1.00780</td>\n",
       "      <td>-1.07850</td>\n",
       "      <td>-1.14800</td>\n",
       "      <td>-1.215700</td>\n",
       "      <td>-1.281700</td>\n",
       "      <td>-1.34360</td>\n",
       "      <td>-1.39980</td>\n",
       "      <td>-1.44920</td>\n",
       "      <td>-1.49070</td>\n",
       "      <td>-1.52380</td>\n",
       "      <td>-1.54820</td>\n",
       "      <td>-1.56510</td>\n",
       "      <td>-1.57390</td>\n",
       "      <td>-1.57560</td>\n",
       "      <td>-1.57220</td>\n",
       "      <td>-1.56540</td>\n",
       "      <td>-1.55740</td>\n",
       "    </tr>\n",
       "    <tr>\n",
       "      <th>454</th>\n",
       "      <td>16</td>\n",
       "      <td>-1.13830</td>\n",
       "      <td>-1.11750</td>\n",
       "      <td>-1.08600</td>\n",
       "      <td>-1.05880</td>\n",
       "      <td>-1.04260</td>\n",
       "      <td>-1.03480</td>\n",
       "      <td>-1.030400</td>\n",
       "      <td>-1.023800</td>\n",
       "      <td>-1.019700</td>\n",
       "      <td>-1.014100</td>\n",
       "      <td>-1.011000</td>\n",
       "      <td>-1.003700</td>\n",
       "      <td>-0.99626</td>\n",
       "      <td>-0.98654</td>\n",
       "      <td>-0.975850</td>\n",
       "      <td>-0.961990</td>\n",
       "      <td>-0.939300</td>\n",
       "      <td>-0.906350</td>\n",
       "      <td>-0.857730</td>\n",
       "      <td>-0.790880</td>\n",
       "      <td>-0.688520</td>\n",
       "      <td>-0.530510</td>\n",
       "      <td>-0.295720</td>\n",
       "      <td>0.012420</td>\n",
       "      <td>0.362860</td>\n",
       "      <td>0.704280</td>\n",
       "      <td>0.989140</td>\n",
       "      <td>1.195700</td>\n",
       "      <td>1.330800</td>\n",
       "      <td>1.419100</td>\n",
       "      <td>1.480700</td>\n",
       "      <td>1.522900</td>\n",
       "      <td>1.537800</td>\n",
       "      <td>1.515200</td>\n",
       "      <td>1.447800</td>\n",
       "      <td>1.339000</td>\n",
       "      <td>1.200700</td>\n",
       "      <td>1.04880</td>\n",
       "      <td>0.893560</td>\n",
       "      <td>...</td>\n",
       "      <td>0.524870</td>\n",
       "      <td>0.51820</td>\n",
       "      <td>0.507740</td>\n",
       "      <td>0.49748</td>\n",
       "      <td>0.48748</td>\n",
       "      <td>0.48360</td>\n",
       "      <td>0.49253</td>\n",
       "      <td>0.51891</td>\n",
       "      <td>0.555280</td>\n",
       "      <td>0.593430</td>\n",
       "      <td>0.625580</td>\n",
       "      <td>0.65525</td>\n",
       "      <td>0.68770</td>\n",
       "      <td>0.72889</td>\n",
       "      <td>0.77773</td>\n",
       "      <td>0.82742</td>\n",
       "      <td>0.86324</td>\n",
       "      <td>0.86752</td>\n",
       "      <td>0.827730</td>\n",
       "      <td>0.745030</td>\n",
       "      <td>0.63697</td>\n",
       "      <td>0.52074</td>\n",
       "      <td>0.41149</td>\n",
       "      <td>0.30748</td>\n",
       "      <td>0.20794</td>\n",
       "      <td>0.10741</td>\n",
       "      <td>0.005904</td>\n",
       "      <td>-0.098838</td>\n",
       "      <td>-0.20753</td>\n",
       "      <td>-0.31721</td>\n",
       "      <td>-0.42525</td>\n",
       "      <td>-0.52516</td>\n",
       "      <td>-0.62123</td>\n",
       "      <td>-0.71320</td>\n",
       "      <td>-0.80249</td>\n",
       "      <td>-0.87908</td>\n",
       "      <td>-0.94166</td>\n",
       "      <td>-0.99577</td>\n",
       "      <td>-1.05090</td>\n",
       "      <td>-1.10410</td>\n",
       "    </tr>\n",
       "  </tbody>\n",
       "</table>\n",
       "<p>455 rows × 271 columns</p>\n",
       "</div>"
      ],
      "text/plain": [
       "     word        1        2        3  ...      267      268      269      270\n",
       "0       4 -0.89094 -0.86099 -0.82438  ... -0.90783 -0.91942 -0.93018 -0.93939\n",
       "1      12 -0.78346 -0.68562 -0.58409  ... -0.95244 -0.96623 -0.98050 -0.99178\n",
       "2      13 -1.32560 -1.28430 -1.21970  ... -1.06910 -1.13680 -1.19800 -1.27000\n",
       "3      23 -1.09370 -1.04200 -0.99840  ... -0.89531 -0.96052 -1.05090 -1.12830\n",
       "4       4 -0.90138 -0.85228 -0.80196  ... -1.03700 -1.04110 -1.04180 -1.04030\n",
       "..    ...      ...      ...      ...  ...      ...      ...      ...      ...\n",
       "450    11 -0.89862 -0.85293 -0.78905  ... -0.94357 -0.95528 -0.95874 -0.95623\n",
       "451     4 -0.63348 -0.55768 -0.46741  ... -0.67433 -0.69544 -0.71425 -0.73015\n",
       "452    25 -1.10540 -1.08980 -1.06850  ... -0.95196 -0.99402 -1.04620 -1.08780\n",
       "453    15 -1.54970 -1.49970 -1.43140  ... -1.57560 -1.57220 -1.56540 -1.55740\n",
       "454    16 -1.13830 -1.11750 -1.08600  ... -0.94166 -0.99577 -1.05090 -1.10410\n",
       "\n",
       "[455 rows x 271 columns]"
      ]
     },
     "execution_count": 5,
     "metadata": {
      "tags": []
     },
     "output_type": "execute_result"
    }
   ],
   "source": [
    "words"
   ]
  },
  {
   "cell_type": "markdown",
   "metadata": {
    "id": "kQevz92cyoqH"
   },
   "source": [
    "## View output"
   ]
  },
  {
   "cell_type": "code",
   "execution_count": null,
   "metadata": {
    "colab": {
     "base_uri": "https://localhost:8080/"
    },
    "id": "DNuB2nV7yoqH",
    "outputId": "db0d19a2-9b00-4b7d-aff1-d5443cbb4dc0"
   },
   "outputs": [
    {
     "data": {
      "text/plain": [
       "12"
      ]
     },
     "execution_count": 6,
     "metadata": {
      "tags": []
     },
     "output_type": "execute_result"
    }
   ],
   "source": [
    "words.word[1]"
   ]
  },
  {
   "cell_type": "code",
   "execution_count": null,
   "metadata": {
    "colab": {
     "base_uri": "https://localhost:8080/",
     "height": 681
    },
    "id": "54-z802-yoqH",
    "outputId": "6f3ddcd6-b5b6-4e7f-c2df-ca9a82db305f"
   },
   "outputs": [
    {
     "data": {
      "text/plain": [
       "Text(0.5, 0.98, 'Sample word projections and histograms of the projections')"
      ]
     },
     "execution_count": 7,
     "metadata": {
      "tags": []
     },
     "output_type": "execute_result"
    },
    {
     "data": {
      "image/png": "[encoded data removed]",
      "text/plain": [
       "<Figure size 1080x720 with 6 Axes>"
      ]
     },
     "metadata": {
      "needs_background": "light",
      "tags": []
     },
     "output_type": "display_data"
    }
   ],
   "source": [
    "plt.subplot(3, 2, 1)\n",
    "plt.plot(words.iloc[1, 1:-1])\n",
    "plt.title(\"Sample Projection Word \" + str(words.word[1]), fontweight = 'bold', y = 0.8, fontsize = 14)\n",
    "plt.subplot(3, 2, 2)\n",
    "plt.hist(words.iloc[1, 1:-1], 10)\n",
    "plt.title(\"Histogram of Projection Word \" + str(words.word[1]), fontweight = 'bold', y = 0.8, fontsize = 14)\n",
    "plt.subplot(3, 2, 3)\n",
    "plt.plot(words.iloc[3, 1:-1])\n",
    "plt.title(\"Sample Projection Word \" + str(words.word[3]), fontweight = 'bold', y = 0.8, fontsize = 14)\n",
    "plt.subplot(3, 2, 4)\n",
    "plt.hist(words.iloc[3, 1:-1], 10)\n",
    "plt.title(\"Histogram of Projection Word \" + str(words.word[3]), fontweight = 'bold', y = 0.8, fontsize = 14)\n",
    "plt.subplot(3, 2, 5)\n",
    "plt.plot(words.iloc[5, 1:-1])\n",
    "plt.title(\"Sample Projection Word \" + str(words.word[11]), fontweight = 'bold', y = 0.8, fontsize = 14)\n",
    "plt.subplot(3, 2, 6)\n",
    "plt.hist(words.iloc[5, 1:-1], 10)\n",
    "plt.title(\"Histogram of Projection Word \" + str(words.word[11]), fontweight = 'bold', y = 0.8, fontsize = 14)\n",
    "plt.suptitle(\"Sample word projections and histograms of the projections\", fontsize = 18)"
   ]
  },
  {
   "cell_type": "code",
   "execution_count": null,
   "metadata": {
    "id": "9VwPZdH4akgu"
   },
   "outputs": [],
   "source": [
    ""
   ]
  },
  {
   "cell_type": "markdown",
   "metadata": {
    "id": "DDz90LOVZIvd"
   },
   "source": [
    "## **hist2d : 각 시간마다 histogram을 그렸다고 생각하면 된다. 다른 시계열 데이터 분석에서도 유용할 것!!! 또한 시간에 따른 linegraph를 중첩해서 그렸다고 생각하면 된다!!**\n",
    "\n",
    "## 여러 개의 시간-value 그래프를 중첩해서 그린 것!!"
   ]
  },
  {
   "cell_type": "code",
   "execution_count": null,
   "metadata": {
    "colab": {
     "base_uri": "https://localhost:8080/",
     "height": 632
    },
    "id": "HH4NM26ScMBr",
    "outputId": "d96743f2-6836-412a-db00-070b1b75f73e"
   },
   "outputs": [
    {
     "data": {
      "text/plain": [
       "Text(0, 0.5, 'Value')"
      ]
     },
     "execution_count": 8,
     "metadata": {
      "tags": []
     },
     "output_type": "execute_result"
    },
    {
     "data": {
      "image/png": "[encoded data removed]",
      "text/plain": [
       "<Figure size 1080x720 with 1 Axes>"
      ]
     },
     "metadata": {
      "needs_background": "light",
      "tags": []
     },
     "output_type": "display_data"
    }
   ],
   "source": [
    "\n",
    "## We can also consider the 2d histogram of a word\n",
    "x = np.array([])\n",
    "y = np.array([])\n",
    "\n",
    "w = 12\n",
    "selected_words = words[words.word == w]\n",
    "selected_words.shape\n",
    "\n",
    "for idx, row in selected_words.iterrows():\n",
    "    y = np.hstack([y, row[1:271]])\n",
    "    x = np.hstack([x, np.array(range(270))])\n",
    "    \n",
    "fig, ax = plt.subplots()\n",
    "hist = ax.hist2d(x, y, bins = 40)\n",
    "plt.xlabel(\"Time\", fontsize = 18)\n",
    "plt.ylabel(\"Value\", fontsize = 18)"
   ]
  },
  {
   "cell_type": "markdown",
   "metadata": {
    "id": "0_R4euqPbNzo"
   },
   "source": [
    "* 1d 히스토그램 : 고점을 찾을 수 있다. \n",
    "  - ex) 고점의 개수, 뒤틀림, 첨도 등. 즉, 시간에 상관없이 value 그 자체의 개수나 이런 것을 알 수 있다.\n",
    "* 2d 히스토그램 : 시간축을 반영한 정보 확인할 수 있다. \n",
    "  - ex) 두 고점 사이에 평평함을 공통으로 가진다 (120~200번째 시간 단계의 색을 보면)\n",
    "  - **50-150 시각에서 최고점이 나온다.최댓값이 50~150 시간 단계 사이에 도달했는지? 와 같은 feature를 만들 수 있을 것이다.**"
   ]
  },
  {
   "cell_type": "code",
   "execution_count": null,
   "metadata": {
    "colab": {
     "base_uri": "https://localhost:8080/",
     "height": 377
    },
    "id": "X1SvNRnkdUsc",
    "outputId": "8363658d-58ee-4559-8d8e-9307091f350f"
   },
   "outputs": [
    {
     "data": {
      "text/html": [
       "<div>\n",
       "<style scoped>\n",
       "    .dataframe tbody tr th:only-of-type {\n",
       "        vertical-align: middle;\n",
       "    }\n",
       "\n",
       "    .dataframe tbody tr th {\n",
       "        vertical-align: top;\n",
       "    }\n",
       "\n",
       "    .dataframe thead th {\n",
       "        text-align: right;\n",
       "    }\n",
       "</style>\n",
       "<table border=\"1\" class=\"dataframe\">\n",
       "  <thead>\n",
       "    <tr style=\"text-align: right;\">\n",
       "      <th></th>\n",
       "      <th>word</th>\n",
       "      <th>1</th>\n",
       "      <th>2</th>\n",
       "      <th>3</th>\n",
       "      <th>4</th>\n",
       "      <th>5</th>\n",
       "      <th>6</th>\n",
       "      <th>7</th>\n",
       "      <th>8</th>\n",
       "      <th>9</th>\n",
       "      <th>10</th>\n",
       "      <th>11</th>\n",
       "      <th>12</th>\n",
       "      <th>13</th>\n",
       "      <th>14</th>\n",
       "      <th>15</th>\n",
       "      <th>16</th>\n",
       "      <th>17</th>\n",
       "      <th>18</th>\n",
       "      <th>19</th>\n",
       "      <th>20</th>\n",
       "      <th>21</th>\n",
       "      <th>22</th>\n",
       "      <th>23</th>\n",
       "      <th>24</th>\n",
       "      <th>25</th>\n",
       "      <th>26</th>\n",
       "      <th>27</th>\n",
       "      <th>28</th>\n",
       "      <th>29</th>\n",
       "      <th>30</th>\n",
       "      <th>31</th>\n",
       "      <th>32</th>\n",
       "      <th>33</th>\n",
       "      <th>34</th>\n",
       "      <th>35</th>\n",
       "      <th>36</th>\n",
       "      <th>37</th>\n",
       "      <th>38</th>\n",
       "      <th>39</th>\n",
       "      <th>...</th>\n",
       "      <th>231</th>\n",
       "      <th>232</th>\n",
       "      <th>233</th>\n",
       "      <th>234</th>\n",
       "      <th>235</th>\n",
       "      <th>236</th>\n",
       "      <th>237</th>\n",
       "      <th>238</th>\n",
       "      <th>239</th>\n",
       "      <th>240</th>\n",
       "      <th>241</th>\n",
       "      <th>242</th>\n",
       "      <th>243</th>\n",
       "      <th>244</th>\n",
       "      <th>245</th>\n",
       "      <th>246</th>\n",
       "      <th>247</th>\n",
       "      <th>248</th>\n",
       "      <th>249</th>\n",
       "      <th>250</th>\n",
       "      <th>251</th>\n",
       "      <th>252</th>\n",
       "      <th>253</th>\n",
       "      <th>254</th>\n",
       "      <th>255</th>\n",
       "      <th>256</th>\n",
       "      <th>257</th>\n",
       "      <th>258</th>\n",
       "      <th>259</th>\n",
       "      <th>260</th>\n",
       "      <th>261</th>\n",
       "      <th>262</th>\n",
       "      <th>263</th>\n",
       "      <th>264</th>\n",
       "      <th>265</th>\n",
       "      <th>266</th>\n",
       "      <th>267</th>\n",
       "      <th>268</th>\n",
       "      <th>269</th>\n",
       "      <th>270</th>\n",
       "    </tr>\n",
       "  </thead>\n",
       "  <tbody>\n",
       "    <tr>\n",
       "      <th>1</th>\n",
       "      <td>12</td>\n",
       "      <td>-0.78346</td>\n",
       "      <td>-0.68562</td>\n",
       "      <td>-0.58409</td>\n",
       "      <td>-0.47946</td>\n",
       "      <td>-0.37398</td>\n",
       "      <td>-0.27008</td>\n",
       "      <td>-0.17225</td>\n",
       "      <td>-0.087463</td>\n",
       "      <td>-0.019191</td>\n",
       "      <td>0.035301</td>\n",
       "      <td>0.080601</td>\n",
       "      <td>0.12121</td>\n",
       "      <td>0.16167</td>\n",
       "      <td>0.20223</td>\n",
       "      <td>0.239730</td>\n",
       "      <td>0.273860</td>\n",
       "      <td>0.305240</td>\n",
       "      <td>0.33417</td>\n",
       "      <td>0.364750</td>\n",
       "      <td>0.399670</td>\n",
       "      <td>0.436950</td>\n",
       "      <td>0.474700</td>\n",
       "      <td>0.509190</td>\n",
       "      <td>0.534400</td>\n",
       "      <td>0.54755</td>\n",
       "      <td>0.549650</td>\n",
       "      <td>0.542360</td>\n",
       "      <td>0.529090</td>\n",
       "      <td>0.515230</td>\n",
       "      <td>0.503070</td>\n",
       "      <td>0.491830</td>\n",
       "      <td>0.48213</td>\n",
       "      <td>0.47245</td>\n",
       "      <td>0.45929</td>\n",
       "      <td>0.44309</td>\n",
       "      <td>0.42404</td>\n",
       "      <td>0.40053</td>\n",
       "      <td>0.37585</td>\n",
       "      <td>0.35189</td>\n",
       "      <td>...</td>\n",
       "      <td>0.711070</td>\n",
       "      <td>0.647730</td>\n",
       "      <td>0.579890</td>\n",
       "      <td>0.506740</td>\n",
       "      <td>0.427670</td>\n",
       "      <td>0.341550</td>\n",
       "      <td>0.248490</td>\n",
       "      <td>0.152210</td>\n",
       "      <td>0.056228</td>\n",
       "      <td>-0.036684</td>\n",
       "      <td>-0.123520</td>\n",
       "      <td>-0.204720</td>\n",
       "      <td>-0.282990</td>\n",
       "      <td>-0.359170</td>\n",
       "      <td>-0.433970</td>\n",
       "      <td>-0.507940</td>\n",
       "      <td>-0.578640</td>\n",
       "      <td>-0.64302</td>\n",
       "      <td>-0.70017</td>\n",
       "      <td>-0.74901</td>\n",
       "      <td>-0.78785</td>\n",
       "      <td>-0.81818</td>\n",
       "      <td>-0.84200</td>\n",
       "      <td>-0.85809</td>\n",
       "      <td>-0.86830</td>\n",
       "      <td>-0.87519</td>\n",
       "      <td>-0.87721</td>\n",
       "      <td>-0.87661</td>\n",
       "      <td>-0.87728</td>\n",
       "      <td>-0.87899</td>\n",
       "      <td>-0.88318</td>\n",
       "      <td>-0.89189</td>\n",
       "      <td>-0.90290</td>\n",
       "      <td>-0.91427</td>\n",
       "      <td>-0.92668</td>\n",
       "      <td>-0.93966</td>\n",
       "      <td>-0.95244</td>\n",
       "      <td>-0.96623</td>\n",
       "      <td>-0.98050</td>\n",
       "      <td>-0.99178</td>\n",
       "    </tr>\n",
       "    <tr>\n",
       "      <th>55</th>\n",
       "      <td>12</td>\n",
       "      <td>-0.65904</td>\n",
       "      <td>-0.62525</td>\n",
       "      <td>-0.58935</td>\n",
       "      <td>-0.54896</td>\n",
       "      <td>-0.50556</td>\n",
       "      <td>-0.46049</td>\n",
       "      <td>-0.41860</td>\n",
       "      <td>-0.385650</td>\n",
       "      <td>-0.359560</td>\n",
       "      <td>-0.338580</td>\n",
       "      <td>-0.322480</td>\n",
       "      <td>-0.30840</td>\n",
       "      <td>-0.29826</td>\n",
       "      <td>-0.29244</td>\n",
       "      <td>-0.286430</td>\n",
       "      <td>-0.280400</td>\n",
       "      <td>-0.273060</td>\n",
       "      <td>-0.26323</td>\n",
       "      <td>-0.256180</td>\n",
       "      <td>-0.251520</td>\n",
       "      <td>-0.248130</td>\n",
       "      <td>-0.248420</td>\n",
       "      <td>-0.248460</td>\n",
       "      <td>-0.244590</td>\n",
       "      <td>-0.23437</td>\n",
       "      <td>-0.209560</td>\n",
       "      <td>-0.164040</td>\n",
       "      <td>-0.094924</td>\n",
       "      <td>0.001522</td>\n",
       "      <td>0.123680</td>\n",
       "      <td>0.267220</td>\n",
       "      <td>0.42740</td>\n",
       "      <td>0.59400</td>\n",
       "      <td>0.75686</td>\n",
       "      <td>0.90731</td>\n",
       "      <td>1.03640</td>\n",
       "      <td>1.14280</td>\n",
       "      <td>1.22850</td>\n",
       "      <td>1.29440</td>\n",
       "      <td>...</td>\n",
       "      <td>-0.596280</td>\n",
       "      <td>-0.535420</td>\n",
       "      <td>-0.466510</td>\n",
       "      <td>-0.396300</td>\n",
       "      <td>-0.331980</td>\n",
       "      <td>-0.278860</td>\n",
       "      <td>-0.240040</td>\n",
       "      <td>-0.216740</td>\n",
       "      <td>-0.208350</td>\n",
       "      <td>-0.212990</td>\n",
       "      <td>-0.227700</td>\n",
       "      <td>-0.248870</td>\n",
       "      <td>-0.272980</td>\n",
       "      <td>-0.297360</td>\n",
       "      <td>-0.320460</td>\n",
       "      <td>-0.341570</td>\n",
       "      <td>-0.360450</td>\n",
       "      <td>-0.37710</td>\n",
       "      <td>-0.39184</td>\n",
       "      <td>-0.40539</td>\n",
       "      <td>-0.41873</td>\n",
       "      <td>-0.43267</td>\n",
       "      <td>-0.44748</td>\n",
       "      <td>-0.46287</td>\n",
       "      <td>-0.47831</td>\n",
       "      <td>-0.49349</td>\n",
       "      <td>-0.50862</td>\n",
       "      <td>-0.52425</td>\n",
       "      <td>-0.54076</td>\n",
       "      <td>-0.55814</td>\n",
       "      <td>-0.57579</td>\n",
       "      <td>-0.59332</td>\n",
       "      <td>-0.61147</td>\n",
       "      <td>-0.63093</td>\n",
       "      <td>-0.65236</td>\n",
       "      <td>-0.67554</td>\n",
       "      <td>-0.69730</td>\n",
       "      <td>-0.71463</td>\n",
       "      <td>-0.72615</td>\n",
       "      <td>-0.73123</td>\n",
       "    </tr>\n",
       "    <tr>\n",
       "      <th>147</th>\n",
       "      <td>12</td>\n",
       "      <td>-0.71717</td>\n",
       "      <td>-0.68091</td>\n",
       "      <td>-0.63841</td>\n",
       "      <td>-0.58892</td>\n",
       "      <td>-0.53264</td>\n",
       "      <td>-0.47139</td>\n",
       "      <td>-0.40747</td>\n",
       "      <td>-0.344300</td>\n",
       "      <td>-0.286010</td>\n",
       "      <td>-0.234900</td>\n",
       "      <td>-0.191560</td>\n",
       "      <td>-0.15565</td>\n",
       "      <td>-0.12682</td>\n",
       "      <td>-0.10352</td>\n",
       "      <td>-0.084548</td>\n",
       "      <td>-0.069375</td>\n",
       "      <td>-0.057266</td>\n",
       "      <td>-0.04693</td>\n",
       "      <td>-0.037601</td>\n",
       "      <td>-0.030110</td>\n",
       "      <td>-0.024582</td>\n",
       "      <td>-0.021632</td>\n",
       "      <td>-0.022047</td>\n",
       "      <td>-0.026295</td>\n",
       "      <td>-0.03320</td>\n",
       "      <td>-0.041518</td>\n",
       "      <td>-0.051102</td>\n",
       "      <td>-0.061371</td>\n",
       "      <td>-0.071801</td>\n",
       "      <td>-0.082305</td>\n",
       "      <td>-0.093497</td>\n",
       "      <td>-0.10396</td>\n",
       "      <td>-0.11262</td>\n",
       "      <td>-0.11996</td>\n",
       "      <td>-0.12681</td>\n",
       "      <td>-0.13336</td>\n",
       "      <td>-0.14024</td>\n",
       "      <td>-0.14992</td>\n",
       "      <td>-0.16102</td>\n",
       "      <td>...</td>\n",
       "      <td>-0.784830</td>\n",
       "      <td>-0.783840</td>\n",
       "      <td>-0.782730</td>\n",
       "      <td>-0.781010</td>\n",
       "      <td>-0.778050</td>\n",
       "      <td>-0.773490</td>\n",
       "      <td>-0.767330</td>\n",
       "      <td>-0.759800</td>\n",
       "      <td>-0.751020</td>\n",
       "      <td>-0.740750</td>\n",
       "      <td>-0.728290</td>\n",
       "      <td>-0.712870</td>\n",
       "      <td>-0.694050</td>\n",
       "      <td>-0.672090</td>\n",
       "      <td>-0.648140</td>\n",
       "      <td>-0.623910</td>\n",
       "      <td>-0.601340</td>\n",
       "      <td>-0.58208</td>\n",
       "      <td>-0.56733</td>\n",
       "      <td>-0.55774</td>\n",
       "      <td>-0.55349</td>\n",
       "      <td>-0.55441</td>\n",
       "      <td>-0.56002</td>\n",
       "      <td>-0.56960</td>\n",
       "      <td>-0.58217</td>\n",
       "      <td>-0.59674</td>\n",
       "      <td>-0.61236</td>\n",
       "      <td>-0.62830</td>\n",
       "      <td>-0.64411</td>\n",
       "      <td>-0.65961</td>\n",
       "      <td>-0.67476</td>\n",
       "      <td>-0.68960</td>\n",
       "      <td>-0.70420</td>\n",
       "      <td>-0.71863</td>\n",
       "      <td>-0.73292</td>\n",
       "      <td>-0.74692</td>\n",
       "      <td>-0.76027</td>\n",
       "      <td>-0.77238</td>\n",
       "      <td>-0.78246</td>\n",
       "      <td>-0.78987</td>\n",
       "    </tr>\n",
       "    <tr>\n",
       "      <th>222</th>\n",
       "      <td>12</td>\n",
       "      <td>-0.53903</td>\n",
       "      <td>-0.53955</td>\n",
       "      <td>-0.55822</td>\n",
       "      <td>-0.57715</td>\n",
       "      <td>-0.58502</td>\n",
       "      <td>-0.58534</td>\n",
       "      <td>-0.58722</td>\n",
       "      <td>-0.593270</td>\n",
       "      <td>-0.599030</td>\n",
       "      <td>-0.600760</td>\n",
       "      <td>-0.599830</td>\n",
       "      <td>-0.59923</td>\n",
       "      <td>-0.59935</td>\n",
       "      <td>-0.59871</td>\n",
       "      <td>-0.597190</td>\n",
       "      <td>-0.596470</td>\n",
       "      <td>-0.597580</td>\n",
       "      <td>-0.59959</td>\n",
       "      <td>-0.601060</td>\n",
       "      <td>-0.601560</td>\n",
       "      <td>-0.601680</td>\n",
       "      <td>-0.601870</td>\n",
       "      <td>-0.602140</td>\n",
       "      <td>-0.602580</td>\n",
       "      <td>-0.60331</td>\n",
       "      <td>-0.604060</td>\n",
       "      <td>-0.603930</td>\n",
       "      <td>-0.602670</td>\n",
       "      <td>-0.600810</td>\n",
       "      <td>-0.599260</td>\n",
       "      <td>-0.598290</td>\n",
       "      <td>-0.59718</td>\n",
       "      <td>-0.59534</td>\n",
       "      <td>-0.59307</td>\n",
       "      <td>-0.59137</td>\n",
       "      <td>-0.59080</td>\n",
       "      <td>-0.59081</td>\n",
       "      <td>-0.59048</td>\n",
       "      <td>-0.58941</td>\n",
       "      <td>...</td>\n",
       "      <td>-0.538140</td>\n",
       "      <td>-0.481500</td>\n",
       "      <td>-0.398790</td>\n",
       "      <td>-0.295750</td>\n",
       "      <td>-0.184640</td>\n",
       "      <td>-0.080971</td>\n",
       "      <td>0.003016</td>\n",
       "      <td>0.059882</td>\n",
       "      <td>0.088580</td>\n",
       "      <td>0.093776</td>\n",
       "      <td>0.083362</td>\n",
       "      <td>0.065894</td>\n",
       "      <td>0.046004</td>\n",
       "      <td>0.023565</td>\n",
       "      <td>-0.004355</td>\n",
       "      <td>-0.039651</td>\n",
       "      <td>-0.080948</td>\n",
       "      <td>-0.12445</td>\n",
       "      <td>-0.16618</td>\n",
       "      <td>-0.20356</td>\n",
       "      <td>-0.23554</td>\n",
       "      <td>-0.26209</td>\n",
       "      <td>-0.28396</td>\n",
       "      <td>-0.30240</td>\n",
       "      <td>-0.31882</td>\n",
       "      <td>-0.33409</td>\n",
       "      <td>-0.34848</td>\n",
       "      <td>-0.36135</td>\n",
       "      <td>-0.37216</td>\n",
       "      <td>-0.38132</td>\n",
       "      <td>-0.38973</td>\n",
       "      <td>-0.40127</td>\n",
       "      <td>-0.41837</td>\n",
       "      <td>-0.44366</td>\n",
       "      <td>-0.47650</td>\n",
       "      <td>-0.51240</td>\n",
       "      <td>-0.54696</td>\n",
       "      <td>-0.57395</td>\n",
       "      <td>-0.59174</td>\n",
       "      <td>-0.60066</td>\n",
       "    </tr>\n",
       "    <tr>\n",
       "      <th>294</th>\n",
       "      <td>12</td>\n",
       "      <td>-0.77367</td>\n",
       "      <td>-0.71285</td>\n",
       "      <td>-0.64288</td>\n",
       "      <td>-0.57090</td>\n",
       "      <td>-0.50449</td>\n",
       "      <td>-0.44685</td>\n",
       "      <td>-0.39856</td>\n",
       "      <td>-0.359380</td>\n",
       "      <td>-0.326620</td>\n",
       "      <td>-0.298220</td>\n",
       "      <td>-0.273660</td>\n",
       "      <td>-0.25145</td>\n",
       "      <td>-0.23117</td>\n",
       "      <td>-0.21394</td>\n",
       "      <td>-0.200010</td>\n",
       "      <td>-0.190320</td>\n",
       "      <td>-0.185980</td>\n",
       "      <td>-0.18589</td>\n",
       "      <td>-0.188720</td>\n",
       "      <td>-0.193360</td>\n",
       "      <td>-0.197890</td>\n",
       "      <td>-0.201860</td>\n",
       "      <td>-0.206020</td>\n",
       "      <td>-0.210410</td>\n",
       "      <td>-0.21583</td>\n",
       "      <td>-0.222780</td>\n",
       "      <td>-0.230170</td>\n",
       "      <td>-0.237380</td>\n",
       "      <td>-0.243710</td>\n",
       "      <td>-0.247940</td>\n",
       "      <td>-0.250790</td>\n",
       "      <td>-0.25284</td>\n",
       "      <td>-0.25385</td>\n",
       "      <td>-0.25559</td>\n",
       "      <td>-0.25779</td>\n",
       "      <td>-0.25931</td>\n",
       "      <td>-0.26309</td>\n",
       "      <td>-0.26884</td>\n",
       "      <td>-0.27536</td>\n",
       "      <td>...</td>\n",
       "      <td>0.406400</td>\n",
       "      <td>0.362000</td>\n",
       "      <td>0.314850</td>\n",
       "      <td>0.263510</td>\n",
       "      <td>0.207300</td>\n",
       "      <td>0.145950</td>\n",
       "      <td>0.080034</td>\n",
       "      <td>0.012174</td>\n",
       "      <td>-0.054457</td>\n",
       "      <td>-0.116750</td>\n",
       "      <td>-0.171800</td>\n",
       "      <td>-0.218160</td>\n",
       "      <td>-0.255710</td>\n",
       "      <td>-0.285430</td>\n",
       "      <td>-0.308940</td>\n",
       "      <td>-0.326750</td>\n",
       "      <td>-0.339060</td>\n",
       "      <td>-0.34738</td>\n",
       "      <td>-0.35258</td>\n",
       "      <td>-0.35647</td>\n",
       "      <td>-0.36159</td>\n",
       "      <td>-0.36660</td>\n",
       "      <td>-0.37039</td>\n",
       "      <td>-0.37437</td>\n",
       "      <td>-0.37829</td>\n",
       "      <td>-0.38335</td>\n",
       "      <td>-0.39088</td>\n",
       "      <td>-0.39758</td>\n",
       "      <td>-0.40341</td>\n",
       "      <td>-0.41378</td>\n",
       "      <td>-0.43335</td>\n",
       "      <td>-0.46619</td>\n",
       "      <td>-0.51009</td>\n",
       "      <td>-0.55327</td>\n",
       "      <td>-0.58751</td>\n",
       "      <td>-0.61489</td>\n",
       "      <td>-0.64465</td>\n",
       "      <td>-0.68912</td>\n",
       "      <td>-0.75058</td>\n",
       "      <td>-0.81450</td>\n",
       "    </tr>\n",
       "    <tr>\n",
       "      <th>297</th>\n",
       "      <td>12</td>\n",
       "      <td>-0.76255</td>\n",
       "      <td>-0.75278</td>\n",
       "      <td>-0.74902</td>\n",
       "      <td>-0.74730</td>\n",
       "      <td>-0.74793</td>\n",
       "      <td>-0.74661</td>\n",
       "      <td>-0.74241</td>\n",
       "      <td>-0.740560</td>\n",
       "      <td>-0.739700</td>\n",
       "      <td>-0.738300</td>\n",
       "      <td>-0.738020</td>\n",
       "      <td>-0.73382</td>\n",
       "      <td>-0.72092</td>\n",
       "      <td>-0.69712</td>\n",
       "      <td>-0.653140</td>\n",
       "      <td>-0.580850</td>\n",
       "      <td>-0.478060</td>\n",
       "      <td>-0.34100</td>\n",
       "      <td>-0.173070</td>\n",
       "      <td>0.013170</td>\n",
       "      <td>0.208350</td>\n",
       "      <td>0.400650</td>\n",
       "      <td>0.576050</td>\n",
       "      <td>0.731040</td>\n",
       "      <td>0.86318</td>\n",
       "      <td>0.968840</td>\n",
       "      <td>1.055300</td>\n",
       "      <td>1.128800</td>\n",
       "      <td>1.191900</td>\n",
       "      <td>1.254200</td>\n",
       "      <td>1.318000</td>\n",
       "      <td>1.37550</td>\n",
       "      <td>1.42400</td>\n",
       "      <td>1.45530</td>\n",
       "      <td>1.46070</td>\n",
       "      <td>1.44500</td>\n",
       "      <td>1.41400</td>\n",
       "      <td>1.37230</td>\n",
       "      <td>1.33230</td>\n",
       "      <td>...</td>\n",
       "      <td>-0.025496</td>\n",
       "      <td>-0.039172</td>\n",
       "      <td>-0.044324</td>\n",
       "      <td>-0.038239</td>\n",
       "      <td>-0.020011</td>\n",
       "      <td>0.007644</td>\n",
       "      <td>0.041272</td>\n",
       "      <td>0.074471</td>\n",
       "      <td>0.099144</td>\n",
       "      <td>0.110720</td>\n",
       "      <td>0.107010</td>\n",
       "      <td>0.088522</td>\n",
       "      <td>0.060321</td>\n",
       "      <td>0.027318</td>\n",
       "      <td>-0.007333</td>\n",
       "      <td>-0.040569</td>\n",
       "      <td>-0.071896</td>\n",
       "      <td>-0.10221</td>\n",
       "      <td>-0.13056</td>\n",
       "      <td>-0.15674</td>\n",
       "      <td>-0.18145</td>\n",
       "      <td>-0.20429</td>\n",
       "      <td>-0.22707</td>\n",
       "      <td>-0.25267</td>\n",
       "      <td>-0.28162</td>\n",
       "      <td>-0.31533</td>\n",
       "      <td>-0.35510</td>\n",
       "      <td>-0.39917</td>\n",
       "      <td>-0.44652</td>\n",
       "      <td>-0.49595</td>\n",
       "      <td>-0.54386</td>\n",
       "      <td>-0.58911</td>\n",
       "      <td>-0.63255</td>\n",
       "      <td>-0.67379</td>\n",
       "      <td>-0.71343</td>\n",
       "      <td>-0.75055</td>\n",
       "      <td>-0.78037</td>\n",
       "      <td>-0.80005</td>\n",
       "      <td>-0.80976</td>\n",
       "      <td>-0.81065</td>\n",
       "    </tr>\n",
       "    <tr>\n",
       "      <th>341</th>\n",
       "      <td>12</td>\n",
       "      <td>-0.67183</td>\n",
       "      <td>-0.60365</td>\n",
       "      <td>-0.53619</td>\n",
       "      <td>-0.46514</td>\n",
       "      <td>-0.39024</td>\n",
       "      <td>-0.31902</td>\n",
       "      <td>-0.26275</td>\n",
       "      <td>-0.224380</td>\n",
       "      <td>-0.199060</td>\n",
       "      <td>-0.179960</td>\n",
       "      <td>-0.163540</td>\n",
       "      <td>-0.15232</td>\n",
       "      <td>-0.14820</td>\n",
       "      <td>-0.15213</td>\n",
       "      <td>-0.163300</td>\n",
       "      <td>-0.179620</td>\n",
       "      <td>-0.200900</td>\n",
       "      <td>-0.22520</td>\n",
       "      <td>-0.251530</td>\n",
       "      <td>-0.278280</td>\n",
       "      <td>-0.302730</td>\n",
       "      <td>-0.324480</td>\n",
       "      <td>-0.342010</td>\n",
       "      <td>-0.356640</td>\n",
       "      <td>-0.36950</td>\n",
       "      <td>-0.380290</td>\n",
       "      <td>-0.389860</td>\n",
       "      <td>-0.395900</td>\n",
       "      <td>-0.399170</td>\n",
       "      <td>-0.399040</td>\n",
       "      <td>-0.395490</td>\n",
       "      <td>-0.39061</td>\n",
       "      <td>-0.38300</td>\n",
       "      <td>-0.37528</td>\n",
       "      <td>-0.36620</td>\n",
       "      <td>-0.35534</td>\n",
       "      <td>-0.34333</td>\n",
       "      <td>-0.32674</td>\n",
       "      <td>-0.30871</td>\n",
       "      <td>...</td>\n",
       "      <td>-0.514290</td>\n",
       "      <td>-0.542340</td>\n",
       "      <td>-0.568450</td>\n",
       "      <td>-0.591510</td>\n",
       "      <td>-0.611170</td>\n",
       "      <td>-0.625830</td>\n",
       "      <td>-0.636680</td>\n",
       "      <td>-0.643760</td>\n",
       "      <td>-0.648470</td>\n",
       "      <td>-0.652490</td>\n",
       "      <td>-0.656180</td>\n",
       "      <td>-0.660940</td>\n",
       "      <td>-0.665950</td>\n",
       "      <td>-0.671240</td>\n",
       "      <td>-0.676370</td>\n",
       "      <td>-0.680470</td>\n",
       "      <td>-0.683920</td>\n",
       "      <td>-0.68533</td>\n",
       "      <td>-0.68474</td>\n",
       "      <td>-0.68206</td>\n",
       "      <td>-0.67726</td>\n",
       "      <td>-0.67140</td>\n",
       "      <td>-0.66409</td>\n",
       "      <td>-0.65660</td>\n",
       "      <td>-0.65027</td>\n",
       "      <td>-0.64615</td>\n",
       "      <td>-0.64475</td>\n",
       "      <td>-0.64438</td>\n",
       "      <td>-0.64482</td>\n",
       "      <td>-0.64743</td>\n",
       "      <td>-0.65464</td>\n",
       "      <td>-0.66805</td>\n",
       "      <td>-0.68631</td>\n",
       "      <td>-0.70782</td>\n",
       "      <td>-0.73156</td>\n",
       "      <td>-0.75684</td>\n",
       "      <td>-0.78128</td>\n",
       "      <td>-0.79975</td>\n",
       "      <td>-0.80873</td>\n",
       "      <td>-0.80899</td>\n",
       "    </tr>\n",
       "    <tr>\n",
       "      <th>361</th>\n",
       "      <td>12</td>\n",
       "      <td>-0.78636</td>\n",
       "      <td>-0.73338</td>\n",
       "      <td>-0.68923</td>\n",
       "      <td>-0.64340</td>\n",
       "      <td>-0.59076</td>\n",
       "      <td>-0.53677</td>\n",
       "      <td>-0.49223</td>\n",
       "      <td>-0.454820</td>\n",
       "      <td>-0.421800</td>\n",
       "      <td>-0.389430</td>\n",
       "      <td>-0.362460</td>\n",
       "      <td>-0.34396</td>\n",
       "      <td>-0.32925</td>\n",
       "      <td>-0.31240</td>\n",
       "      <td>-0.284400</td>\n",
       "      <td>-0.244790</td>\n",
       "      <td>-0.191420</td>\n",
       "      <td>-0.12600</td>\n",
       "      <td>-0.049724</td>\n",
       "      <td>0.036458</td>\n",
       "      <td>0.127010</td>\n",
       "      <td>0.218710</td>\n",
       "      <td>0.303250</td>\n",
       "      <td>0.377480</td>\n",
       "      <td>0.43561</td>\n",
       "      <td>0.473580</td>\n",
       "      <td>0.489760</td>\n",
       "      <td>0.484380</td>\n",
       "      <td>0.466080</td>\n",
       "      <td>0.439590</td>\n",
       "      <td>0.414680</td>\n",
       "      <td>0.39299</td>\n",
       "      <td>0.37742</td>\n",
       "      <td>0.36824</td>\n",
       "      <td>0.36112</td>\n",
       "      <td>0.35698</td>\n",
       "      <td>0.34867</td>\n",
       "      <td>0.34250</td>\n",
       "      <td>0.33647</td>\n",
       "      <td>...</td>\n",
       "      <td>-0.359620</td>\n",
       "      <td>-0.366990</td>\n",
       "      <td>-0.377700</td>\n",
       "      <td>-0.391880</td>\n",
       "      <td>-0.410350</td>\n",
       "      <td>-0.433300</td>\n",
       "      <td>-0.460590</td>\n",
       "      <td>-0.490310</td>\n",
       "      <td>-0.520600</td>\n",
       "      <td>-0.549420</td>\n",
       "      <td>-0.575560</td>\n",
       "      <td>-0.598650</td>\n",
       "      <td>-0.618710</td>\n",
       "      <td>-0.636830</td>\n",
       "      <td>-0.654040</td>\n",
       "      <td>-0.672240</td>\n",
       "      <td>-0.692320</td>\n",
       "      <td>-0.71511</td>\n",
       "      <td>-0.73988</td>\n",
       "      <td>-0.76461</td>\n",
       "      <td>-0.78775</td>\n",
       "      <td>-0.80634</td>\n",
       "      <td>-0.82056</td>\n",
       "      <td>-0.83016</td>\n",
       "      <td>-0.83692</td>\n",
       "      <td>-0.84210</td>\n",
       "      <td>-0.84599</td>\n",
       "      <td>-0.84954</td>\n",
       "      <td>-0.85180</td>\n",
       "      <td>-0.85437</td>\n",
       "      <td>-0.85749</td>\n",
       "      <td>-0.86166</td>\n",
       "      <td>-0.86591</td>\n",
       "      <td>-0.86948</td>\n",
       "      <td>-0.87451</td>\n",
       "      <td>-0.88273</td>\n",
       "      <td>-0.89480</td>\n",
       "      <td>-0.90649</td>\n",
       "      <td>-0.91332</td>\n",
       "      <td>-0.91404</td>\n",
       "    </tr>\n",
       "    <tr>\n",
       "      <th>367</th>\n",
       "      <td>12</td>\n",
       "      <td>-0.52007</td>\n",
       "      <td>-0.49940</td>\n",
       "      <td>-0.48472</td>\n",
       "      <td>-0.47249</td>\n",
       "      <td>-0.45790</td>\n",
       "      <td>-0.43804</td>\n",
       "      <td>-0.41047</td>\n",
       "      <td>-0.375340</td>\n",
       "      <td>-0.334800</td>\n",
       "      <td>-0.292880</td>\n",
       "      <td>-0.251380</td>\n",
       "      <td>-0.21037</td>\n",
       "      <td>-0.16878</td>\n",
       "      <td>-0.12666</td>\n",
       "      <td>-0.083000</td>\n",
       "      <td>-0.037020</td>\n",
       "      <td>0.010541</td>\n",
       "      <td>0.05590</td>\n",
       "      <td>0.096530</td>\n",
       "      <td>0.132320</td>\n",
       "      <td>0.163180</td>\n",
       "      <td>0.186940</td>\n",
       "      <td>0.202450</td>\n",
       "      <td>0.212250</td>\n",
       "      <td>0.21822</td>\n",
       "      <td>0.220120</td>\n",
       "      <td>0.217480</td>\n",
       "      <td>0.214480</td>\n",
       "      <td>0.214110</td>\n",
       "      <td>0.217060</td>\n",
       "      <td>0.221650</td>\n",
       "      <td>0.23028</td>\n",
       "      <td>0.24333</td>\n",
       "      <td>0.25920</td>\n",
       "      <td>0.27357</td>\n",
       "      <td>0.28744</td>\n",
       "      <td>0.30094</td>\n",
       "      <td>0.31379</td>\n",
       "      <td>0.32317</td>\n",
       "      <td>...</td>\n",
       "      <td>-0.608980</td>\n",
       "      <td>-0.613130</td>\n",
       "      <td>-0.616540</td>\n",
       "      <td>-0.619440</td>\n",
       "      <td>-0.622060</td>\n",
       "      <td>-0.624410</td>\n",
       "      <td>-0.626510</td>\n",
       "      <td>-0.628310</td>\n",
       "      <td>-0.629770</td>\n",
       "      <td>-0.630740</td>\n",
       "      <td>-0.631210</td>\n",
       "      <td>-0.631290</td>\n",
       "      <td>-0.631190</td>\n",
       "      <td>-0.631060</td>\n",
       "      <td>-0.631020</td>\n",
       "      <td>-0.631150</td>\n",
       "      <td>-0.631410</td>\n",
       "      <td>-0.63156</td>\n",
       "      <td>-0.63134</td>\n",
       "      <td>-0.63062</td>\n",
       "      <td>-0.62939</td>\n",
       "      <td>-0.62770</td>\n",
       "      <td>-0.62558</td>\n",
       "      <td>-0.62305</td>\n",
       "      <td>-0.62002</td>\n",
       "      <td>-0.61624</td>\n",
       "      <td>-0.61151</td>\n",
       "      <td>-0.60602</td>\n",
       "      <td>-0.60041</td>\n",
       "      <td>-0.59569</td>\n",
       "      <td>-0.59299</td>\n",
       "      <td>-0.59328</td>\n",
       "      <td>-0.59692</td>\n",
       "      <td>-0.60346</td>\n",
       "      <td>-0.61158</td>\n",
       "      <td>-0.61969</td>\n",
       "      <td>-0.62632</td>\n",
       "      <td>-0.63059</td>\n",
       "      <td>-0.63236</td>\n",
       "      <td>-0.63224</td>\n",
       "    </tr>\n",
       "  </tbody>\n",
       "</table>\n",
       "<p>9 rows × 271 columns</p>\n",
       "</div>"
      ],
      "text/plain": [
       "     word        1        2        3  ...      267      268      269      270\n",
       "1      12 -0.78346 -0.68562 -0.58409  ... -0.95244 -0.96623 -0.98050 -0.99178\n",
       "55     12 -0.65904 -0.62525 -0.58935  ... -0.69730 -0.71463 -0.72615 -0.73123\n",
       "147    12 -0.71717 -0.68091 -0.63841  ... -0.76027 -0.77238 -0.78246 -0.78987\n",
       "222    12 -0.53903 -0.53955 -0.55822  ... -0.54696 -0.57395 -0.59174 -0.60066\n",
       "294    12 -0.77367 -0.71285 -0.64288  ... -0.64465 -0.68912 -0.75058 -0.81450\n",
       "297    12 -0.76255 -0.75278 -0.74902  ... -0.78037 -0.80005 -0.80976 -0.81065\n",
       "341    12 -0.67183 -0.60365 -0.53619  ... -0.78128 -0.79975 -0.80873 -0.80899\n",
       "361    12 -0.78636 -0.73338 -0.68923  ... -0.89480 -0.90649 -0.91332 -0.91404\n",
       "367    12 -0.52007 -0.49940 -0.48472  ... -0.62632 -0.63059 -0.63236 -0.63224\n",
       "\n",
       "[9 rows x 271 columns]"
      ]
     },
     "execution_count": 9,
     "metadata": {
      "tags": []
     },
     "output_type": "execute_result"
    }
   ],
   "source": [
    "selected_words"
   ]
  },
  {
   "cell_type": "code",
   "execution_count": null,
   "metadata": {
    "colab": {
     "base_uri": "https://localhost:8080/",
     "height": 632
    },
    "id": "UMo6s851yoqH",
    "outputId": "b721aa47-723c-41aa-b526-f033a58ddf44"
   },
   "outputs": [
    {
     "data": {
      "text/plain": [
       "Text(0, 0.5, 'Value')"
      ]
     },
     "execution_count": 10,
     "metadata": {
      "tags": []
     },
     "output_type": "execute_result"
    },
    {
     "data": {
      "image/png": "[encoded data removed]",
      "text/plain": [
       "<Figure size 1080x720 with 1 Axes>"
      ]
     },
     "metadata": {
      "needs_background": "light",
      "tags": []
     },
     "output_type": "display_data"
    }
   ],
   "source": [
    "\n",
    "## We can also consider the 2d histogram of a word\n",
    "x = np.array([])\n",
    "y = np.array([])\n",
    "\n",
    "w = 23\n",
    "selected_words = words[words.word == w]\n",
    "selected_words.shape\n",
    "\n",
    "for idx, row in selected_words.iterrows():\n",
    "    y = np.hstack([y, row[1:271]])\n",
    "    x = np.hstack([x, np.array(range(270))])\n",
    "    \n",
    "fig, ax = plt.subplots()\n",
    "hist = ax.hist2d(x, y, bins = 40)\n",
    "plt.xlabel(\"Time\", fontsize = 18)\n",
    "plt.ylabel(\"Value\", fontsize = 18)"
   ]
  },
  {
   "cell_type": "markdown",
   "metadata": {
    "id": "BE5jmJsveKhl"
   },
   "source": [
    "*  혹(띄엄띄엄 색깔이 칠해져 있음)이 많이 보인다. 23 단어의 1d line graph를 보면 울퉁불퉁한 것을 보면 이해 가능하다. \n",
    "  - 샘플 간에 특징이 정확히 일치하지 않기 때문\n",
    "* 150 시각 이후에 최고점 등장"
   ]
  },
  {
   "cell_type": "markdown",
   "metadata": {
    "id": "vtfSI0CNyoqI"
   },
   "source": [
    "## Generate some features"
   ]
  },
  {
   "cell_type": "code",
   "execution_count": null,
   "metadata": {
    "colab": {
     "base_uri": "https://localhost:8080/"
    },
    "id": "gQO7ah_EyoqI",
    "outputId": "a29af2af-2d17-4b9e-ffd4-297d90220309"
   },
   "outputs": [
    {
     "data": {
      "text/plain": [
       "(455, 271)"
      ]
     },
     "execution_count": 11,
     "metadata": {
      "tags": []
     },
     "output_type": "execute_result"
    }
   ],
   "source": [
    "words.shape"
   ]
  },
  {
   "cell_type": "code",
   "execution_count": null,
   "metadata": {
    "id": "mU8Qb0fZyoqI"
   },
   "outputs": [],
   "source": [
    "words_features = words.iloc[:, 1:271]"
   ]
  },
  {
   "cell_type": "markdown",
   "metadata": {
    "id": "v0LzUCSUyoqI"
   },
   "source": [
    "### Create some features from original time series"
   ]
  },
  {
   "cell_type": "code",
   "execution_count": null,
   "metadata": {
    "id": "1NB1bmvkyoqI"
   },
   "outputs": [],
   "source": [
    "times  = []\n",
    "values = []\n",
    "for idx, row in words_features.iterrows():\n",
    "    values.append(row.values)\n",
    "    times.append(np.array([i for i in range(row.values.shape[0])]))"
   ]
  },
  {
   "cell_type": "code",
   "execution_count": null,
   "metadata": {
    "colab": {
     "base_uri": "https://localhost:8080/"
    },
    "id": "jXVVULG0yoqI",
    "outputId": "adce0167-2263-4ad7-cb00-0b511c5ae0f1"
   },
   "outputs": [
    {
     "data": {
      "text/plain": [
       "455"
      ]
     },
     "execution_count": 14,
     "metadata": {
      "tags": []
     },
     "output_type": "execute_result"
    }
   ],
   "source": [
    "len(values)"
   ]
  },
  {
   "cell_type": "code",
   "execution_count": null,
   "metadata": {
    "id": "gExyCV3hyoqJ"
   },
   "outputs": [],
   "source": [
    "from cesium import featurize\n",
    "\n",
    "features_to_use = [\"amplitude\",\n",
    "                   \"percent_beyond_1_std\",\n",
    "                   \"percent_close_to_median\",\n",
    "                   ]\n",
    "featurized_words = featurize.featurize_time_series(times=times,\n",
    "                                              values=values,\n",
    "                                              errors=None,\n",
    "                                              features_to_use=features_to_use,\n",
    "                                              scheduler = None)\n",
    "featurized_words.to_csv('./featurized_words.csv')"
   ]
  },
  {
   "cell_type": "code",
   "execution_count": null,
   "metadata": {
    "id": "zbzmBwr4yoqJ"
   },
   "outputs": [],
   "source": [
    "featurized_words = pd.read_csv(\"./featurized_words.csv\", header =  [0, 1])\n",
    "featurized_words.columns = featurized_words.columns.droplevel(-1)"
   ]
  },
  {
   "cell_type": "code",
   "execution_count": null,
   "metadata": {
    "colab": {
     "base_uri": "https://localhost:8080/",
     "height": 204
    },
    "id": "_8rONktoyoqJ",
    "outputId": "05a12002-17fd-4f1a-e620-7c5f4bed48f9"
   },
   "outputs": [
    {
     "data": {
      "text/html": [
       "<div>\n",
       "<style scoped>\n",
       "    .dataframe tbody tr th:only-of-type {\n",
       "        vertical-align: middle;\n",
       "    }\n",
       "\n",
       "    .dataframe tbody tr th {\n",
       "        vertical-align: top;\n",
       "    }\n",
       "\n",
       "    .dataframe thead th {\n",
       "        text-align: right;\n",
       "    }\n",
       "</style>\n",
       "<table border=\"1\" class=\"dataframe\">\n",
       "  <thead>\n",
       "    <tr style=\"text-align: right;\">\n",
       "      <th></th>\n",
       "      <th>feature</th>\n",
       "      <th>amplitude</th>\n",
       "      <th>percent_beyond_1_std</th>\n",
       "      <th>percent_close_to_median</th>\n",
       "    </tr>\n",
       "  </thead>\n",
       "  <tbody>\n",
       "    <tr>\n",
       "      <th>0</th>\n",
       "      <td>0</td>\n",
       "      <td>1.674555</td>\n",
       "      <td>0.188889</td>\n",
       "      <td>0.451852</td>\n",
       "    </tr>\n",
       "    <tr>\n",
       "      <th>1</th>\n",
       "      <td>1</td>\n",
       "      <td>1.990520</td>\n",
       "      <td>0.118519</td>\n",
       "      <td>0.259259</td>\n",
       "    </tr>\n",
       "    <tr>\n",
       "      <th>2</th>\n",
       "      <td>2</td>\n",
       "      <td>2.903650</td>\n",
       "      <td>0.114815</td>\n",
       "      <td>0.637037</td>\n",
       "    </tr>\n",
       "    <tr>\n",
       "      <th>3</th>\n",
       "      <td>3</td>\n",
       "      <td>2.515050</td>\n",
       "      <td>0.211111</td>\n",
       "      <td>0.562963</td>\n",
       "    </tr>\n",
       "    <tr>\n",
       "      <th>4</th>\n",
       "      <td>4</td>\n",
       "      <td>1.966150</td>\n",
       "      <td>0.181481</td>\n",
       "      <td>0.533333</td>\n",
       "    </tr>\n",
       "  </tbody>\n",
       "</table>\n",
       "</div>"
      ],
      "text/plain": [
       "   feature  amplitude  percent_beyond_1_std  percent_close_to_median\n",
       "0        0   1.674555              0.188889                 0.451852\n",
       "1        1   1.990520              0.118519                 0.259259\n",
       "2        2   2.903650              0.114815                 0.637037\n",
       "3        3   2.515050              0.211111                 0.562963\n",
       "4        4   1.966150              0.181481                 0.533333"
      ]
     },
     "execution_count": 17,
     "metadata": {
      "tags": []
     },
     "output_type": "execute_result"
    }
   ],
   "source": [
    "featurized_words.head()"
   ]
  },
  {
   "cell_type": "code",
   "execution_count": null,
   "metadata": {
    "colab": {
     "base_uri": "https://localhost:8080/"
    },
    "id": "6rhDPhzFyoqJ",
    "outputId": "48cc41bb-070e-4790-cc5e-f19a891de978"
   },
   "outputs": [
    {
     "data": {
      "text/plain": [
       "(455, 4)"
      ]
     },
     "execution_count": 18,
     "metadata": {
      "tags": []
     },
     "output_type": "execute_result"
    }
   ],
   "source": [
    "featurized_words.shape"
   ]
  },
  {
   "cell_type": "code",
   "execution_count": null,
   "metadata": {
    "id": "EwDoMJ3JyoqJ"
   },
   "outputs": [],
   "source": [
    ""
   ]
  },
  {
   "cell_type": "code",
   "execution_count": null,
   "metadata": {
    "colab": {
     "base_uri": "https://localhost:8080/",
     "height": 682
    },
    "id": "oC7q4hrWyoqJ",
    "outputId": "13f5b49a-2ca0-4879-909b-2298d8d86599"
   },
   "outputs": [
    {
     "data": {
      "text/plain": [
       "(array([ 48., 146., 100.,  45.,  41.,  29.,  23.,  12.,   8.,   3.]),\n",
       " array([0.05925926, 0.10666667, 0.15407407, 0.20148148, 0.24888889,\n",
       "        0.2962963 , 0.3437037 , 0.39111111, 0.43851852, 0.48592593,\n",
       "        0.53333333]),\n",
       " <a list of 10 Patch objects>)"
      ]
     },
     "execution_count": 19,
     "metadata": {
      "tags": []
     },
     "output_type": "execute_result"
    },
    {
     "data": {
      "image/png": "[encoded data removed]",
      "text/plain": [
       "<Figure size 1080x720 with 1 Axes>"
      ]
     },
     "metadata": {
      "needs_background": "light",
      "tags": []
     },
     "output_type": "display_data"
    }
   ],
   "source": [
    "plt.hist(featurized_words.percent_beyond_1_std)"
   ]
  },
  {
   "cell_type": "markdown",
   "metadata": {
    "id": "3FTJatsHyoqK"
   },
   "source": [
    "### Create some features from histogram"
   ]
  },
  {
   "cell_type": "code",
   "execution_count": null,
   "metadata": {
    "id": "fXjYFJP0yoqK"
   },
   "outputs": [],
   "source": [
    "times = []\n",
    "values = []\n",
    "for idx, row in words_features.iterrows():\n",
    "    values.append(np.histogram(row.values, bins=10, range=(-2.5, 5.0))[0] + .0001) ## cesium seems not to handle 0s\n",
    "    times.append(np.array([i for i in range(9)]))"
   ]
  },
  {
   "cell_type": "code",
   "execution_count": null,
   "metadata": {
    "id": "XV9v5pn4yoqK"
   },
   "outputs": [],
   "source": [
    "features_to_use = [\"amplitude\",\n",
    "                   \"percent_close_to_median\",\n",
    "                  \"skew\"\n",
    "                  ]\n",
    "featurized_hists = featurize.featurize_time_series(times=times,\n",
    "                                              values=values,\n",
    "                                              errors=None,\n",
    "                                              features_to_use=features_to_use,\n",
    "                                              scheduler = None)\n",
    "featurized_hists.to_csv('./featurized_hists.csv')"
   ]
  },
  {
   "cell_type": "code",
   "execution_count": null,
   "metadata": {
    "id": "Rzp9-T7wyoqK"
   },
   "outputs": [],
   "source": [
    "featurized_hists = pd.read_csv(\"./featurized_hists.csv\", header = [0, 1])\n",
    "featurized_hists.columns = featurized_hists.columns.droplevel(-1)"
   ]
  },
  {
   "cell_type": "code",
   "execution_count": null,
   "metadata": {
    "colab": {
     "base_uri": "https://localhost:8080/",
     "height": 204
    },
    "id": "p2pLeZz9yoqK",
    "outputId": "c0a9d3ba-2fc0-4046-dd32-ae489a60f40e"
   },
   "outputs": [
    {
     "data": {
      "text/html": [
       "<div>\n",
       "<style scoped>\n",
       "    .dataframe tbody tr th:only-of-type {\n",
       "        vertical-align: middle;\n",
       "    }\n",
       "\n",
       "    .dataframe tbody tr th {\n",
       "        vertical-align: top;\n",
       "    }\n",
       "\n",
       "    .dataframe thead th {\n",
       "        text-align: right;\n",
       "    }\n",
       "</style>\n",
       "<table border=\"1\" class=\"dataframe\">\n",
       "  <thead>\n",
       "    <tr style=\"text-align: right;\">\n",
       "      <th></th>\n",
       "      <th>feature</th>\n",
       "      <th>amplitude</th>\n",
       "      <th>percent_close_to_median</th>\n",
       "      <th>skew</th>\n",
       "    </tr>\n",
       "  </thead>\n",
       "  <tbody>\n",
       "    <tr>\n",
       "      <th>0</th>\n",
       "      <td>0</td>\n",
       "      <td>88.0</td>\n",
       "      <td>0.444444</td>\n",
       "      <td>2.262655</td>\n",
       "    </tr>\n",
       "    <tr>\n",
       "      <th>1</th>\n",
       "      <td>1</td>\n",
       "      <td>61.0</td>\n",
       "      <td>0.666667</td>\n",
       "      <td>1.285343</td>\n",
       "    </tr>\n",
       "    <tr>\n",
       "      <th>2</th>\n",
       "      <td>2</td>\n",
       "      <td>70.0</td>\n",
       "      <td>0.666667</td>\n",
       "      <td>1.683031</td>\n",
       "    </tr>\n",
       "    <tr>\n",
       "      <th>3</th>\n",
       "      <td>3</td>\n",
       "      <td>67.0</td>\n",
       "      <td>0.555556</td>\n",
       "      <td>1.724109</td>\n",
       "    </tr>\n",
       "    <tr>\n",
       "      <th>4</th>\n",
       "      <td>4</td>\n",
       "      <td>75.0</td>\n",
       "      <td>0.777778</td>\n",
       "      <td>1.902513</td>\n",
       "    </tr>\n",
       "  </tbody>\n",
       "</table>\n",
       "</div>"
      ],
      "text/plain": [
       "   feature  amplitude  percent_close_to_median      skew\n",
       "0        0       88.0                 0.444444  2.262655\n",
       "1        1       61.0                 0.666667  1.285343\n",
       "2        2       70.0                 0.666667  1.683031\n",
       "3        3       67.0                 0.555556  1.724109\n",
       "4        4       75.0                 0.777778  1.902513"
      ]
     },
     "execution_count": 23,
     "metadata": {
      "tags": []
     },
     "output_type": "execute_result"
    }
   ],
   "source": [
    "featurized_hists.head()"
   ]
  },
  {
   "cell_type": "code",
   "execution_count": null,
   "metadata": {
    "id": "aKR4aGhLyoqK"
   },
   "outputs": [],
   "source": [
    "features = pd.concat([featurized_words.reset_index(drop=True), featurized_hists], axis=1)"
   ]
  },
  {
   "cell_type": "code",
   "execution_count": null,
   "metadata": {
    "colab": {
     "base_uri": "https://localhost:8080/",
     "height": 204
    },
    "id": "lDHMuNoryoqL",
    "outputId": "48ff287b-82a0-4782-816f-a06ab068ae8d"
   },
   "outputs": [
    {
     "data": {
      "text/html": [
       "<div>\n",
       "<style scoped>\n",
       "    .dataframe tbody tr th:only-of-type {\n",
       "        vertical-align: middle;\n",
       "    }\n",
       "\n",
       "    .dataframe tbody tr th {\n",
       "        vertical-align: top;\n",
       "    }\n",
       "\n",
       "    .dataframe thead th {\n",
       "        text-align: right;\n",
       "    }\n",
       "</style>\n",
       "<table border=\"1\" class=\"dataframe\">\n",
       "  <thead>\n",
       "    <tr style=\"text-align: right;\">\n",
       "      <th></th>\n",
       "      <th>feature</th>\n",
       "      <th>amplitude</th>\n",
       "      <th>percent_beyond_1_std</th>\n",
       "      <th>percent_close_to_median</th>\n",
       "      <th>feature</th>\n",
       "      <th>amplitude</th>\n",
       "      <th>percent_close_to_median</th>\n",
       "      <th>skew</th>\n",
       "    </tr>\n",
       "  </thead>\n",
       "  <tbody>\n",
       "    <tr>\n",
       "      <th>0</th>\n",
       "      <td>0</td>\n",
       "      <td>1.674555</td>\n",
       "      <td>0.188889</td>\n",
       "      <td>0.451852</td>\n",
       "      <td>0</td>\n",
       "      <td>88.0</td>\n",
       "      <td>0.444444</td>\n",
       "      <td>2.262655</td>\n",
       "    </tr>\n",
       "    <tr>\n",
       "      <th>1</th>\n",
       "      <td>1</td>\n",
       "      <td>1.990520</td>\n",
       "      <td>0.118519</td>\n",
       "      <td>0.259259</td>\n",
       "      <td>1</td>\n",
       "      <td>61.0</td>\n",
       "      <td>0.666667</td>\n",
       "      <td>1.285343</td>\n",
       "    </tr>\n",
       "    <tr>\n",
       "      <th>2</th>\n",
       "      <td>2</td>\n",
       "      <td>2.903650</td>\n",
       "      <td>0.114815</td>\n",
       "      <td>0.637037</td>\n",
       "      <td>2</td>\n",
       "      <td>70.0</td>\n",
       "      <td>0.666667</td>\n",
       "      <td>1.683031</td>\n",
       "    </tr>\n",
       "    <tr>\n",
       "      <th>3</th>\n",
       "      <td>3</td>\n",
       "      <td>2.515050</td>\n",
       "      <td>0.211111</td>\n",
       "      <td>0.562963</td>\n",
       "      <td>3</td>\n",
       "      <td>67.0</td>\n",
       "      <td>0.555556</td>\n",
       "      <td>1.724109</td>\n",
       "    </tr>\n",
       "    <tr>\n",
       "      <th>4</th>\n",
       "      <td>4</td>\n",
       "      <td>1.966150</td>\n",
       "      <td>0.181481</td>\n",
       "      <td>0.533333</td>\n",
       "      <td>4</td>\n",
       "      <td>75.0</td>\n",
       "      <td>0.777778</td>\n",
       "      <td>1.902513</td>\n",
       "    </tr>\n",
       "  </tbody>\n",
       "</table>\n",
       "</div>"
      ],
      "text/plain": [
       "   feature  amplitude  ...  percent_close_to_median      skew\n",
       "0        0   1.674555  ...                 0.444444  2.262655\n",
       "1        1   1.990520  ...                 0.666667  1.285343\n",
       "2        2   2.903650  ...                 0.666667  1.683031\n",
       "3        3   2.515050  ...                 0.555556  1.724109\n",
       "4        4   1.966150  ...                 0.777778  1.902513\n",
       "\n",
       "[5 rows x 8 columns]"
      ]
     },
     "execution_count": 25,
     "metadata": {
      "tags": []
     },
     "output_type": "execute_result"
    }
   ],
   "source": [
    "features.head()"
   ]
  },
  {
   "cell_type": "code",
   "execution_count": null,
   "metadata": {
    "colab": {
     "base_uri": "https://localhost:8080/"
    },
    "id": "G9iJxM0dyoqL",
    "outputId": "bdfdc75f-f3e0-42aa-9468-7931f3d3f428"
   },
   "outputs": [
    {
     "data": {
      "text/plain": [
       "(455, 271)"
      ]
     },
     "execution_count": 26,
     "metadata": {
      "tags": []
     },
     "output_type": "execute_result"
    }
   ],
   "source": [
    "words.shape"
   ]
  },
  {
   "cell_type": "code",
   "execution_count": null,
   "metadata": {
    "id": "XtfMqpvByoqL"
   },
   "outputs": [],
   "source": [
    "## we also add some of our own features again, to account more for shape\n",
    "feats = np.zeros( (words.shape[0], 1), dtype = np.float32)\n",
    "for i in range(words.shape[0]):\n",
    "    vals = words.iloc[i, 1:271].values\n",
    "    feats[i, 0] = np.where(vals == np.max(vals))[0][0]"
   ]
  },
  {
   "cell_type": "code",
   "execution_count": null,
   "metadata": {
    "colab": {
     "base_uri": "https://localhost:8080/"
    },
    "id": "Dk22ifTByoqL",
    "outputId": "968b0c50-da92-475b-fe97-f1dfb3963376"
   },
   "outputs": [
    {
     "data": {
      "text/plain": [
       "(455, 1)"
      ]
     },
     "execution_count": 28,
     "metadata": {
      "tags": []
     },
     "output_type": "execute_result"
    }
   ],
   "source": [
    "feats.shape"
   ]
  },
  {
   "cell_type": "code",
   "execution_count": null,
   "metadata": {
    "colab": {
     "base_uri": "https://localhost:8080/"
    },
    "id": "zhEjItv3yoqL",
    "outputId": "5b69ba5c-3a99-4c1d-df63-3d6f4758c61a"
   },
   "outputs": [
    {
     "data": {
      "text/plain": [
       "(455, 8)"
      ]
     },
     "execution_count": 29,
     "metadata": {
      "tags": []
     },
     "output_type": "execute_result"
    }
   ],
   "source": [
    "features.shape"
   ]
  },
  {
   "cell_type": "code",
   "execution_count": null,
   "metadata": {
    "id": "hJKgiHvkyoqL"
   },
   "outputs": [],
   "source": [
    "features['peak_location'] = feats"
   ]
  },
  {
   "cell_type": "code",
   "execution_count": null,
   "metadata": {
    "colab": {
     "base_uri": "https://localhost:8080/",
     "height": 204
    },
    "id": "KBFnRqywyoqL",
    "outputId": "5e29fdc5-c39f-4777-b940-e98a823d5084"
   },
   "outputs": [
    {
     "data": {
      "text/html": [
       "<div>\n",
       "<style scoped>\n",
       "    .dataframe tbody tr th:only-of-type {\n",
       "        vertical-align: middle;\n",
       "    }\n",
       "\n",
       "    .dataframe tbody tr th {\n",
       "        vertical-align: top;\n",
       "    }\n",
       "\n",
       "    .dataframe thead th {\n",
       "        text-align: right;\n",
       "    }\n",
       "</style>\n",
       "<table border=\"1\" class=\"dataframe\">\n",
       "  <thead>\n",
       "    <tr style=\"text-align: right;\">\n",
       "      <th></th>\n",
       "      <th>feature</th>\n",
       "      <th>amplitude</th>\n",
       "      <th>percent_beyond_1_std</th>\n",
       "      <th>percent_close_to_median</th>\n",
       "      <th>feature</th>\n",
       "      <th>amplitude</th>\n",
       "      <th>percent_close_to_median</th>\n",
       "      <th>skew</th>\n",
       "      <th>peak_location</th>\n",
       "    </tr>\n",
       "  </thead>\n",
       "  <tbody>\n",
       "    <tr>\n",
       "      <th>0</th>\n",
       "      <td>0</td>\n",
       "      <td>1.674555</td>\n",
       "      <td>0.188889</td>\n",
       "      <td>0.451852</td>\n",
       "      <td>0</td>\n",
       "      <td>88.0</td>\n",
       "      <td>0.444444</td>\n",
       "      <td>2.262655</td>\n",
       "      <td>186.0</td>\n",
       "    </tr>\n",
       "    <tr>\n",
       "      <th>1</th>\n",
       "      <td>1</td>\n",
       "      <td>1.990520</td>\n",
       "      <td>0.118519</td>\n",
       "      <td>0.259259</td>\n",
       "      <td>1</td>\n",
       "      <td>61.0</td>\n",
       "      <td>0.666667</td>\n",
       "      <td>1.285343</td>\n",
       "      <td>93.0</td>\n",
       "    </tr>\n",
       "    <tr>\n",
       "      <th>2</th>\n",
       "      <td>2</td>\n",
       "      <td>2.903650</td>\n",
       "      <td>0.114815</td>\n",
       "      <td>0.637037</td>\n",
       "      <td>2</td>\n",
       "      <td>70.0</td>\n",
       "      <td>0.666667</td>\n",
       "      <td>1.683031</td>\n",
       "      <td>69.0</td>\n",
       "    </tr>\n",
       "    <tr>\n",
       "      <th>3</th>\n",
       "      <td>3</td>\n",
       "      <td>2.515050</td>\n",
       "      <td>0.211111</td>\n",
       "      <td>0.562963</td>\n",
       "      <td>3</td>\n",
       "      <td>67.0</td>\n",
       "      <td>0.555556</td>\n",
       "      <td>1.724109</td>\n",
       "      <td>235.0</td>\n",
       "    </tr>\n",
       "    <tr>\n",
       "      <th>4</th>\n",
       "      <td>4</td>\n",
       "      <td>1.966150</td>\n",
       "      <td>0.181481</td>\n",
       "      <td>0.533333</td>\n",
       "      <td>4</td>\n",
       "      <td>75.0</td>\n",
       "      <td>0.777778</td>\n",
       "      <td>1.902513</td>\n",
       "      <td>174.0</td>\n",
       "    </tr>\n",
       "  </tbody>\n",
       "</table>\n",
       "</div>"
      ],
      "text/plain": [
       "   feature  amplitude  ...      skew  peak_location\n",
       "0        0   1.674555  ...  2.262655          186.0\n",
       "1        1   1.990520  ...  1.285343           93.0\n",
       "2        2   2.903650  ...  1.683031           69.0\n",
       "3        3   2.515050  ...  1.724109          235.0\n",
       "4        4   1.966150  ...  1.902513          174.0\n",
       "\n",
       "[5 rows x 9 columns]"
      ]
     },
     "execution_count": 31,
     "metadata": {
      "tags": []
     },
     "output_type": "execute_result"
    }
   ],
   "source": [
    "features.head()"
   ]
  },
  {
   "cell_type": "code",
   "execution_count": null,
   "metadata": {
    "id": "8zbK-6uryoqM"
   },
   "outputs": [],
   "source": [
    "feature_values = preprocessing.scale(features.iloc[:, [1, 2, 3, 5, 6, 7]])"
   ]
  },
  {
   "cell_type": "code",
   "execution_count": null,
   "metadata": {
    "id": "tkbhmiQ3yoqM"
   },
   "outputs": [],
   "source": [
    "clustering = AgglomerativeClustering(n_clusters=50, linkage='ward')\n",
    "clustering.fit(feature_values)\n",
    "words['feature_label'] = clustering.labels_"
   ]
  },
  {
   "cell_type": "code",
   "execution_count": null,
   "metadata": {
    "id": "uj1JMpe0yoqM"
   },
   "outputs": [],
   "source": [
    "words['feature_label'] = words.feature_label.astype('category')"
   ]
  },
  {
   "cell_type": "code",
   "execution_count": null,
   "metadata": {
    "colab": {
     "base_uri": "https://localhost:8080/",
     "height": 235
    },
    "id": "E6uS-vUwyoqM",
    "outputId": "85309f27-bf7e-4b73-8ca8-6c6ef86e3625"
   },
   "outputs": [
    {
     "data": {
      "text/html": [
       "<div>\n",
       "<style scoped>\n",
       "    .dataframe tbody tr th:only-of-type {\n",
       "        vertical-align: middle;\n",
       "    }\n",
       "\n",
       "    .dataframe tbody tr th {\n",
       "        vertical-align: top;\n",
       "    }\n",
       "\n",
       "    .dataframe thead th {\n",
       "        text-align: right;\n",
       "    }\n",
       "</style>\n",
       "<table border=\"1\" class=\"dataframe\">\n",
       "  <thead>\n",
       "    <tr style=\"text-align: right;\">\n",
       "      <th></th>\n",
       "      <th>num_clustering_labels</th>\n",
       "      <th>num_word_samples</th>\n",
       "      <th>most_common_label</th>\n",
       "    </tr>\n",
       "    <tr>\n",
       "      <th>word</th>\n",
       "      <th></th>\n",
       "      <th></th>\n",
       "      <th></th>\n",
       "    </tr>\n",
       "  </thead>\n",
       "  <tbody>\n",
       "    <tr>\n",
       "      <th>1</th>\n",
       "      <td>19</td>\n",
       "      <td>57</td>\n",
       "      <td>38</td>\n",
       "    </tr>\n",
       "    <tr>\n",
       "      <th>2</th>\n",
       "      <td>19</td>\n",
       "      <td>42</td>\n",
       "      <td>29</td>\n",
       "    </tr>\n",
       "    <tr>\n",
       "      <th>3</th>\n",
       "      <td>16</td>\n",
       "      <td>28</td>\n",
       "      <td>37</td>\n",
       "    </tr>\n",
       "    <tr>\n",
       "      <th>4</th>\n",
       "      <td>17</td>\n",
       "      <td>34</td>\n",
       "      <td>17</td>\n",
       "    </tr>\n",
       "    <tr>\n",
       "      <th>5</th>\n",
       "      <td>13</td>\n",
       "      <td>25</td>\n",
       "      <td>8</td>\n",
       "    </tr>\n",
       "  </tbody>\n",
       "</table>\n",
       "</div>"
      ],
      "text/plain": [
       "      num_clustering_labels  num_word_samples  most_common_label\n",
       "word                                                            \n",
       "1                        19                57                 38\n",
       "2                        19                42                 29\n",
       "3                        16                28                 37\n",
       "4                        17                34                 17\n",
       "5                        13                25                  8"
      ]
     },
     "execution_count": 35,
     "metadata": {
      "tags": []
     },
     "output_type": "execute_result"
    }
   ],
   "source": [
    "## the number of feature labels \n",
    "results = words.groupby('word')['feature_label'].agg(num_clustering_labels=lambda x: len(set(x)),\n",
    "                                                    num_word_samples=lambda x: len(x),\n",
    "                                                    most_common_label=lambda x: Counter(x).most_common(1)[0][0])\n",
    "results.head()"
   ]
  },
  {
   "cell_type": "code",
   "execution_count": null,
   "metadata": {
    "colab": {
     "base_uri": "https://localhost:8080/",
     "height": 1000
    },
    "id": "14n6W5UYyoqM",
    "outputId": "1795c36e-93c0-4123-dc87-1cf07f211da1"
   },
   "outputs": [
    {
     "data": {
      "text/html": [
       "<div>\n",
       "<style scoped>\n",
       "    .dataframe tbody tr th:only-of-type {\n",
       "        vertical-align: middle;\n",
       "    }\n",
       "\n",
       "    .dataframe tbody tr th {\n",
       "        vertical-align: top;\n",
       "    }\n",
       "\n",
       "    .dataframe thead th {\n",
       "        text-align: right;\n",
       "    }\n",
       "</style>\n",
       "<table border=\"1\" class=\"dataframe\">\n",
       "  <thead>\n",
       "    <tr style=\"text-align: right;\">\n",
       "      <th></th>\n",
       "      <th>num_words</th>\n",
       "      <th>num_feat_samples</th>\n",
       "      <th>most_common_word</th>\n",
       "    </tr>\n",
       "    <tr>\n",
       "      <th>feature_label</th>\n",
       "      <th></th>\n",
       "      <th></th>\n",
       "      <th></th>\n",
       "    </tr>\n",
       "  </thead>\n",
       "  <tbody>\n",
       "    <tr>\n",
       "      <th>0</th>\n",
       "      <td>9</td>\n",
       "      <td>16</td>\n",
       "      <td>2</td>\n",
       "    </tr>\n",
       "    <tr>\n",
       "      <th>1</th>\n",
       "      <td>5</td>\n",
       "      <td>5</td>\n",
       "      <td>13</td>\n",
       "    </tr>\n",
       "    <tr>\n",
       "      <th>2</th>\n",
       "      <td>7</td>\n",
       "      <td>8</td>\n",
       "      <td>16</td>\n",
       "    </tr>\n",
       "    <tr>\n",
       "      <th>3</th>\n",
       "      <td>8</td>\n",
       "      <td>9</td>\n",
       "      <td>1</td>\n",
       "    </tr>\n",
       "    <tr>\n",
       "      <th>4</th>\n",
       "      <td>10</td>\n",
       "      <td>20</td>\n",
       "      <td>1</td>\n",
       "    </tr>\n",
       "    <tr>\n",
       "      <th>5</th>\n",
       "      <td>4</td>\n",
       "      <td>8</td>\n",
       "      <td>2</td>\n",
       "    </tr>\n",
       "    <tr>\n",
       "      <th>6</th>\n",
       "      <td>5</td>\n",
       "      <td>6</td>\n",
       "      <td>15</td>\n",
       "    </tr>\n",
       "    <tr>\n",
       "      <th>7</th>\n",
       "      <td>6</td>\n",
       "      <td>6</td>\n",
       "      <td>7</td>\n",
       "    </tr>\n",
       "    <tr>\n",
       "      <th>8</th>\n",
       "      <td>6</td>\n",
       "      <td>17</td>\n",
       "      <td>5</td>\n",
       "    </tr>\n",
       "    <tr>\n",
       "      <th>9</th>\n",
       "      <td>10</td>\n",
       "      <td>21</td>\n",
       "      <td>1</td>\n",
       "    </tr>\n",
       "    <tr>\n",
       "      <th>10</th>\n",
       "      <td>10</td>\n",
       "      <td>13</td>\n",
       "      <td>3</td>\n",
       "    </tr>\n",
       "    <tr>\n",
       "      <th>11</th>\n",
       "      <td>7</td>\n",
       "      <td>13</td>\n",
       "      <td>6</td>\n",
       "    </tr>\n",
       "    <tr>\n",
       "      <th>12</th>\n",
       "      <td>6</td>\n",
       "      <td>9</td>\n",
       "      <td>1</td>\n",
       "    </tr>\n",
       "    <tr>\n",
       "      <th>13</th>\n",
       "      <td>7</td>\n",
       "      <td>9</td>\n",
       "      <td>2</td>\n",
       "    </tr>\n",
       "    <tr>\n",
       "      <th>14</th>\n",
       "      <td>3</td>\n",
       "      <td>5</td>\n",
       "      <td>4</td>\n",
       "    </tr>\n",
       "    <tr>\n",
       "      <th>15</th>\n",
       "      <td>11</td>\n",
       "      <td>13</td>\n",
       "      <td>6</td>\n",
       "    </tr>\n",
       "    <tr>\n",
       "      <th>16</th>\n",
       "      <td>7</td>\n",
       "      <td>14</td>\n",
       "      <td>12</td>\n",
       "    </tr>\n",
       "    <tr>\n",
       "      <th>17</th>\n",
       "      <td>8</td>\n",
       "      <td>18</td>\n",
       "      <td>4</td>\n",
       "    </tr>\n",
       "    <tr>\n",
       "      <th>18</th>\n",
       "      <td>6</td>\n",
       "      <td>8</td>\n",
       "      <td>39</td>\n",
       "    </tr>\n",
       "    <tr>\n",
       "      <th>19</th>\n",
       "      <td>5</td>\n",
       "      <td>6</td>\n",
       "      <td>15</td>\n",
       "    </tr>\n",
       "    <tr>\n",
       "      <th>20</th>\n",
       "      <td>6</td>\n",
       "      <td>9</td>\n",
       "      <td>7</td>\n",
       "    </tr>\n",
       "    <tr>\n",
       "      <th>21</th>\n",
       "      <td>7</td>\n",
       "      <td>11</td>\n",
       "      <td>1</td>\n",
       "    </tr>\n",
       "    <tr>\n",
       "      <th>22</th>\n",
       "      <td>7</td>\n",
       "      <td>10</td>\n",
       "      <td>20</td>\n",
       "    </tr>\n",
       "    <tr>\n",
       "      <th>23</th>\n",
       "      <td>5</td>\n",
       "      <td>9</td>\n",
       "      <td>12</td>\n",
       "    </tr>\n",
       "    <tr>\n",
       "      <th>24</th>\n",
       "      <td>5</td>\n",
       "      <td>8</td>\n",
       "      <td>13</td>\n",
       "    </tr>\n",
       "    <tr>\n",
       "      <th>25</th>\n",
       "      <td>1</td>\n",
       "      <td>2</td>\n",
       "      <td>4</td>\n",
       "    </tr>\n",
       "    <tr>\n",
       "      <th>26</th>\n",
       "      <td>8</td>\n",
       "      <td>21</td>\n",
       "      <td>1</td>\n",
       "    </tr>\n",
       "    <tr>\n",
       "      <th>27</th>\n",
       "      <td>6</td>\n",
       "      <td>6</td>\n",
       "      <td>9</td>\n",
       "    </tr>\n",
       "    <tr>\n",
       "      <th>28</th>\n",
       "      <td>6</td>\n",
       "      <td>6</td>\n",
       "      <td>8</td>\n",
       "    </tr>\n",
       "    <tr>\n",
       "      <th>29</th>\n",
       "      <td>4</td>\n",
       "      <td>9</td>\n",
       "      <td>2</td>\n",
       "    </tr>\n",
       "    <tr>\n",
       "      <th>30</th>\n",
       "      <td>4</td>\n",
       "      <td>8</td>\n",
       "      <td>2</td>\n",
       "    </tr>\n",
       "    <tr>\n",
       "      <th>31</th>\n",
       "      <td>7</td>\n",
       "      <td>8</td>\n",
       "      <td>19</td>\n",
       "    </tr>\n",
       "    <tr>\n",
       "      <th>32</th>\n",
       "      <td>3</td>\n",
       "      <td>4</td>\n",
       "      <td>26</td>\n",
       "    </tr>\n",
       "    <tr>\n",
       "      <th>33</th>\n",
       "      <td>7</td>\n",
       "      <td>7</td>\n",
       "      <td>7</td>\n",
       "    </tr>\n",
       "    <tr>\n",
       "      <th>34</th>\n",
       "      <td>4</td>\n",
       "      <td>4</td>\n",
       "      <td>3</td>\n",
       "    </tr>\n",
       "    <tr>\n",
       "      <th>35</th>\n",
       "      <td>4</td>\n",
       "      <td>6</td>\n",
       "      <td>15</td>\n",
       "    </tr>\n",
       "    <tr>\n",
       "      <th>36</th>\n",
       "      <td>6</td>\n",
       "      <td>10</td>\n",
       "      <td>3</td>\n",
       "    </tr>\n",
       "    <tr>\n",
       "      <th>37</th>\n",
       "      <td>7</td>\n",
       "      <td>12</td>\n",
       "      <td>3</td>\n",
       "    </tr>\n",
       "    <tr>\n",
       "      <th>38</th>\n",
       "      <td>8</td>\n",
       "      <td>19</td>\n",
       "      <td>1</td>\n",
       "    </tr>\n",
       "    <tr>\n",
       "      <th>39</th>\n",
       "      <td>6</td>\n",
       "      <td>6</td>\n",
       "      <td>22</td>\n",
       "    </tr>\n",
       "    <tr>\n",
       "      <th>40</th>\n",
       "      <td>1</td>\n",
       "      <td>2</td>\n",
       "      <td>20</td>\n",
       "    </tr>\n",
       "    <tr>\n",
       "      <th>41</th>\n",
       "      <td>2</td>\n",
       "      <td>2</td>\n",
       "      <td>23</td>\n",
       "    </tr>\n",
       "    <tr>\n",
       "      <th>42</th>\n",
       "      <td>2</td>\n",
       "      <td>3</td>\n",
       "      <td>2</td>\n",
       "    </tr>\n",
       "    <tr>\n",
       "      <th>43</th>\n",
       "      <td>4</td>\n",
       "      <td>8</td>\n",
       "      <td>1</td>\n",
       "    </tr>\n",
       "    <tr>\n",
       "      <th>44</th>\n",
       "      <td>4</td>\n",
       "      <td>5</td>\n",
       "      <td>33</td>\n",
       "    </tr>\n",
       "    <tr>\n",
       "      <th>45</th>\n",
       "      <td>4</td>\n",
       "      <td>4</td>\n",
       "      <td>3</td>\n",
       "    </tr>\n",
       "    <tr>\n",
       "      <th>46</th>\n",
       "      <td>7</td>\n",
       "      <td>10</td>\n",
       "      <td>11</td>\n",
       "    </tr>\n",
       "    <tr>\n",
       "      <th>47</th>\n",
       "      <td>6</td>\n",
       "      <td>13</td>\n",
       "      <td>14</td>\n",
       "    </tr>\n",
       "    <tr>\n",
       "      <th>48</th>\n",
       "      <td>3</td>\n",
       "      <td>6</td>\n",
       "      <td>2</td>\n",
       "    </tr>\n",
       "    <tr>\n",
       "      <th>49</th>\n",
       "      <td>3</td>\n",
       "      <td>3</td>\n",
       "      <td>9</td>\n",
       "    </tr>\n",
       "  </tbody>\n",
       "</table>\n",
       "</div>"
      ],
      "text/plain": [
       "               num_words  num_feat_samples  most_common_word\n",
       "feature_label                                               \n",
       "0                      9                16                 2\n",
       "1                      5                 5                13\n",
       "2                      7                 8                16\n",
       "3                      8                 9                 1\n",
       "4                     10                20                 1\n",
       "5                      4                 8                 2\n",
       "6                      5                 6                15\n",
       "7                      6                 6                 7\n",
       "8                      6                17                 5\n",
       "9                     10                21                 1\n",
       "10                    10                13                 3\n",
       "11                     7                13                 6\n",
       "12                     6                 9                 1\n",
       "13                     7                 9                 2\n",
       "14                     3                 5                 4\n",
       "15                    11                13                 6\n",
       "16                     7                14                12\n",
       "17                     8                18                 4\n",
       "18                     6                 8                39\n",
       "19                     5                 6                15\n",
       "20                     6                 9                 7\n",
       "21                     7                11                 1\n",
       "22                     7                10                20\n",
       "23                     5                 9                12\n",
       "24                     5                 8                13\n",
       "25                     1                 2                 4\n",
       "26                     8                21                 1\n",
       "27                     6                 6                 9\n",
       "28                     6                 6                 8\n",
       "29                     4                 9                 2\n",
       "30                     4                 8                 2\n",
       "31                     7                 8                19\n",
       "32                     3                 4                26\n",
       "33                     7                 7                 7\n",
       "34                     4                 4                 3\n",
       "35                     4                 6                15\n",
       "36                     6                10                 3\n",
       "37                     7                12                 3\n",
       "38                     8                19                 1\n",
       "39                     6                 6                22\n",
       "40                     1                 2                20\n",
       "41                     2                 2                23\n",
       "42                     2                 3                 2\n",
       "43                     4                 8                 1\n",
       "44                     4                 5                33\n",
       "45                     4                 4                 3\n",
       "46                     7                10                11\n",
       "47                     6                13                14\n",
       "48                     3                 6                 2\n",
       "49                     3                 3                 9"
      ]
     },
     "execution_count": 36,
     "metadata": {
      "tags": []
     },
     "output_type": "execute_result"
    }
   ],
   "source": [
    "## the number of feature labels \n",
    "results_feats = words.groupby('feature_label')['word'].agg(num_words=lambda x: len(set(x)),\n",
    "                                                           num_feat_samples=lambda x: len(x),\n",
    "                                                           most_common_word=lambda x: Counter(x).most_common(1)[0][0])\n",
    "results_feats\n",
    "## note that word 1 = most common in cluster 38"
   ]
  },
  {
   "cell_type": "code",
   "execution_count": null,
   "metadata": {
    "colab": {
     "base_uri": "https://localhost:8080/"
    },
    "id": "sNryiPOMyoqN",
    "outputId": "5d7f7485-ce94-4e30-d858-3dd31ba6e4af"
   },
   "outputs": [
    {
     "data": {
      "text/plain": [
       "0.5085776345414814"
      ]
     },
     "execution_count": 37,
     "metadata": {
      "tags": []
     },
     "output_type": "execute_result"
    }
   ],
   "source": [
    "homogeneity_score(words.word, words.feature_label)\n",
    "## see definitions in user manual: https://scikit-learn.org/stable/modules/clustering.html#homogeneity-completeness"
   ]
  },
  {
   "cell_type": "code",
   "execution_count": null,
   "metadata": {
    "id": "ci6zBdcjznOY"
   },
   "outputs": [],
   "source": [
    ""
   ]
  },
  {
   "cell_type": "code",
   "execution_count": null,
   "metadata": {
    "id": "PwHdZ2bRznQB"
   },
   "outputs": [],
   "source": [
    "from sklearn import preprocessing\n",
    "feature_values = preprocessing.scale(features.values)"
   ]
  },
  {
   "cell_type": "code",
   "execution_count": null,
   "metadata": {
    "id": "ZpuUYtZWznSD"
   },
   "outputs": [],
   "source": [
    "## Agglomerative clustering : 병합 군집\n",
    "\n",
    "from sklearn.cluster import AgglomerativeClustering\n",
    "feature_clustering = AgglomerativeClustering(n_clusters = 50,\n",
    "                                             linkage = 'ward')\n",
    "feature_clustering.fit(feature_values)\n",
    "words['feature_labels']=feature_clustering.fit_predict(feature_values)"
   ]
  },
  {
   "cell_type": "code",
   "execution_count": null,
   "metadata": {
    "colab": {
     "base_uri": "https://localhost:8080/"
    },
    "id": "JNoPd4NAznWT",
    "outputId": "df515cea-0bc6-404e-ebe3-9fab64232608"
   },
   "outputs": [
    {
     "data": {
      "text/plain": [
       "0.533391542031503"
      ]
     },
     "execution_count": 40,
     "metadata": {
      "tags": []
     },
     "output_type": "execute_result"
    }
   ],
   "source": [
    "from sklearn.metrics.cluster import homogeneity_score\n",
    "homogeneity_score(words.word, words.feature_labels)"
   ]
  },
  {
   "cell_type": "markdown",
   "metadata": {
    "id": "Bym_3aKl1Wz0"
   },
   "source": [
    "# 개선 방법\n",
    "\n",
    "* feature 더 추가해서 개선 가능할 것\n",
    "* **여전히 유용한 feature 놓치고 있음. 시각적 데이터 탐색을 통해 눈에 띄는 고점의 개수와 위치 같은 몇 가지 특징을 발견할 수 있었다. 이 분석을 재작업하여 해당 정보나 특징을 찾아야 함**\n",
    "* 다른 거리 지표를 사용해서 사람의 눈으로 유용하다고 판단한 것 중 다른 특징보다 더 무게를 줄 만한 것들을 찾아봐야 함"
   ]
  },
  {
   "cell_type": "code",
   "execution_count": null,
   "metadata": {
    "id": "UCApIyPS1r6b"
   },
   "outputs": [],
   "source": [
    ""
   ]
  },
  {
   "cell_type": "markdown",
   "metadata": {
    "id": "GgvEoPAIyoqN"
   },
   "source": [
    "## Dynamic Time Warping Distance Definition"
   ]
  },
  {
   "cell_type": "markdown",
   "metadata": {
    "id": "GajPZVakhRnO"
   },
   "source": [
    "# DTW\n",
    "\n",
    "[https://www.youtube.com/watch?v=03J4xzymOWM : 아래 해당 동영상 요약한 것] \n",
    "\n",
    "* DTW : 동일한 시간선 상의 데이터 뿐 아니라 주변 요소까지 비교 쌍으로 사용하여 정확도를 높인다.\n",
    "\n",
    "* 장점\n",
    "  - 서로 다른 길이의 시계열도 유사도 분석 가능\n",
    "  - GPS 데이터 등 다차원 시계열 데이터의 분석 가능\n",
    "\n",
    "* 단점\n",
    "  - 알고리즘 구현이 어렵고 **연산량이 많음ㅠㅠ**\n",
    "  - 효율적으로 검색하기 위한 다양한 아이디어로 DTW를 구현한 여러가지 사례가 있다. 특히 대규모 데이터셋으로 작업하는 경우, 성능의 요구 사항에 맞는 여러 가지 구현체에 대한 정보를 탐색해보는 것이 좋다.\n",
    "\n",
    "* 방법론 : DTW는 적절한 index를 매칭시켜주어서 distance를 계산하는 것이다.\n",
    "\n",
    "* 한계점 : 과도한 왜곡 warping\n",
    "  - 왜곡 정도에 아무런 제약을 주지 않을 경우에는 너무 과도하게 만들어서 오히려 유사하지 않은 시계열들을 유사한 것 처럼 비교할 가능성이 있음\n",
    "  - Constrainted_DTW : 어느정도 왜곡할 수 있는 범위를 제약하는 알고리즘\n",
    "\n",
    "\n",
    "* [좋은 자료]\n",
    "  - https://hamait.tistory.com/862\n",
    "  - https://towardsdatascience.com/dynamic-time-warping-3933f25fcdd\n"
   ]
  },
  {
   "cell_type": "markdown",
   "metadata": {
    "id": "t9uxiBScpc25"
   },
   "source": [
    "# Frechet distance\n",
    "\n",
    "[Paper : 이산 프례셰 거리 척도를 이용한 궤적 유사도 고속계산 휴리스틱 알고리즘]\n",
    "* 두 궤적의 진행 방향이나 모양을 고려하여 계산 --> 값이 작을수록 두 궤적은 가깝고 모양도 비슷하다\n",
    "* 개와 사람의 산책을 예로 쉽게 설명된다\n",
    "  - 목줄을 묶은 개와 사람이 각자 궤적을 따라 시작 지점부터 끝 지점까지 산책을 한다.\n",
    "  - 각자의 속도는 조절할 수 있으나 뒤로 돌아갈 수는 없다.\n",
    "  - 이 때 이 산책을 가능하게 하는 목줄의 최소 길이가 Frechet 거리가 된다. \n",
    "* 좋은 자료\n",
    "  - https://medium.com/tblx-insider/how-long-should-your-dog-leash-be-ba5a4e6891fc\n",
    "  - https://towardsdatascience.com/fast-discrete-fr%C3%A9chet-distance-d6b422a8fb77"
   ]
  },
  {
   "cell_type": "markdown",
   "metadata": {
    "id": "0F2bjdwopUvu"
   },
   "source": [
    "# Pearson correlation\n",
    "* 계산은 비교적 쉽지만, 이 방법을 사용하려면 두 시계열이 같은 수의 데이터로 구성되어야 한다.\n",
    "  - 그렇지 않다면, 다운 샘플링해서 나머지 하나에 맞춰야 한다.\n",
    "* 상관관계 계산의 시간 복잡도는 O(n)이므로 계산 자원의 관점에서 볼 때 효율적인 지표다."
   ]
  },
  {
   "cell_type": "markdown",
   "metadata": {
    "id": "2ElWB0dysMHt"
   },
   "source": [
    "# Longest common subsequence\n",
    "* 범주형 값을 나타내는 시계열에 적합한 거리 측정\n",
    "* 두 시계열에서 나타나는, 같은 값들의 최장 연속 길이를 의미한다.\n",
    "  - 다만 그 값들이 정확히 같은 시간의 위치에 등장할 필요는 없다.\n",
    "  - 값이 클수록 더 비슷한 시계열이라는 의미이다.\n",
    "* DTW와 마찬가지로 공통된 모양이 발생하는 시간상의 위치보다 전체적인 공통된 모양을 찾는 데 더 관심이 있다.\n",
    "* 두 시계열의 길이가 같은 필요는 없다. \n",
    "* 좋은 자료\n",
    "  - https://twinw.tistory.com/126\n",
    "  - https://mygumi.tistory.com/126\n",
    "  - https://velog.io/@emplam27/%EC%95%8C%EA%B3%A0%EB%A6%AC%EC%A6%98-%EA%B7%B8%EB%A6%BC%EC%9C%BC%EB%A1%9C-%EC%95%8C%EC%95%84%EB%B3%B4%EB%8A%94-LCS-%EC%95%8C%EA%B3%A0%EB%A6%AC%EC%A6%98-Longest-Common-Substring%EC%99%80-Longest-Common-Subsequence"
   ]
  },
  {
   "cell_type": "markdown",
   "metadata": {
    "id": "sr2U67KPwXI_"
   },
   "source": [
    "# 상상력이 필요한 경우, 다시 말하면 데이터 변환 후 거리 측정\n",
    "* https://stackoverflow.com/questions/48497756/time-series-distance-metric\n",
    "* 이 사실은 raw data가 필요조건을 충족하지 않더라도, 시계열 변환으로 ARIMA 모델에 적절하도록 만들어줄 수 있다고 했던 이전의 분석 내용을 다시 한번 상기시켜준다. "
   ]
  },
  {
   "cell_type": "markdown",
   "metadata": {
    "id": "jo2Wukmixs1d"
   },
   "source": [
    "# 거리 지표의 선택, Clustering 알고리즘의 선택\n",
    "* 다음의 균형을 찾는 최선의 판단을 내려야 함\n",
    "  - 계산 자원 사용의 최소화\n",
    "  - 최종 목표와 가장 관련 있는 시계열의 특징을 강조하는 지표를 선택한다.\n",
    "  - **거리 지표가, 사용한 분석 방법의 가정, 강점 및 약점을 반영하는지 확인해야 한다. 예를 들어, k-means clustering은 pairwise-distance의 사용 대신 분산을 최소화하므로, 이 기법에는 유클리드와 비슷한 거리만 적절하다.**"
   ]
  },
  {
   "cell_type": "code",
   "execution_count": null,
   "metadata": {
    "colab": {
     "base_uri": "https://localhost:8080/",
     "height": 610
    },
    "id": "fzhvUSLKyoqN",
    "outputId": "bcf84641-197b-4beb-ba73-9e7d0a0835b0"
   },
   "outputs": [
    {
     "data": {
      "text/plain": [
       "[<matplotlib.lines.Line2D at 0x7f7e3614a610>]"
      ]
     },
     "execution_count": 41,
     "metadata": {
      "tags": []
     },
     "output_type": "execute_result"
    },
    {
     "data": {
      "image/png": "[encoded data removed]",
      "text/plain": [
       "<Figure size 1080x720 with 1 Axes>"
      ]
     },
     "metadata": {
      "needs_background": "light",
      "tags": []
     },
     "output_type": "display_data"
    }
   ],
   "source": [
    "ts1 = np.sin(np.linspace(1, 10))\n",
    "ts2 = np.sin(2 * np.linspace(1, 10))\n",
    "ts3 = np.zeros((50,)) \n",
    "plt.plot(ts1)\n",
    "plt.plot(ts2)\n",
    "plt.plot(ts3)"
   ]
  },
  {
   "cell_type": "markdown",
   "metadata": {
    "id": "4sbxnKAuyoqN"
   },
   "source": [
    "## Exercise: calculate the Euclidean distance between respective pairs of time series from the 3 time series above"
   ]
  },
  {
   "cell_type": "code",
   "execution_count": null,
   "metadata": {
    "colab": {
     "base_uri": "https://localhost:8080/"
    },
    "id": "eW4GP8dyyoqN",
    "outputId": "bd824902-cc65-48e8-b65a-c4a46127c0cf"
   },
   "outputs": [
    {
     "data": {
      "text/plain": [
       "7.3897194681883756"
      ]
     },
     "execution_count": 42,
     "metadata": {
      "tags": []
     },
     "output_type": "execute_result"
    }
   ],
   "source": [
    "np.sqrt(np.sum(np.square(ts1 - ts2)))"
   ]
  },
  {
   "cell_type": "code",
   "execution_count": null,
   "metadata": {
    "colab": {
     "base_uri": "https://localhost:8080/"
    },
    "id": "nMByyNPXyoqN",
    "outputId": "d805b7aa-3c1f-4dde-c9df-b82b661d963a"
   },
   "outputs": [
    {
     "data": {
      "text/plain": [
       "4.999710697636168"
      ]
     },
     "execution_count": 43,
     "metadata": {
      "tags": []
     },
     "output_type": "execute_result"
    }
   ],
   "source": [
    "np.sqrt(np.sum(np.square(ts1 - ts3)))"
   ]
  },
  {
   "cell_type": "code",
   "execution_count": null,
   "metadata": {
    "colab": {
     "base_uri": "https://localhost:8080/"
    },
    "id": "iS-L0RrgyoqO",
    "outputId": "2d51bd19-35db-42e9-d443-9b6eb42c6418"
   },
   "outputs": [
    {
     "data": {
      "text/plain": [
       "4.935018175874873"
      ]
     },
     "execution_count": 44,
     "metadata": {
      "tags": []
     },
     "output_type": "execute_result"
    }
   ],
   "source": [
    "np.sqrt(np.sum(np.square(ts2 - ts3)))"
   ]
  },
  {
   "cell_type": "code",
   "execution_count": null,
   "metadata": {
    "colab": {
     "base_uri": "https://localhost:8080/"
    },
    "id": "OMWrGVtlyoqO",
    "outputId": "47e41506-5e3f-443b-8860-0b89a0f78267"
   },
   "outputs": [
    {
     "data": {
      "text/plain": [
       "(50,)"
      ]
     },
     "execution_count": 45,
     "metadata": {
      "tags": []
     },
     "output_type": "execute_result"
    }
   ],
   "source": [
    "np.linspace(1,10).shape"
   ]
  },
  {
   "cell_type": "markdown",
   "metadata": {
    "id": "l2wh6ljGyoqO"
   },
   "source": [
    "## Another time series clustering technique that has been recommended is a correlation measure. How does this fair in the case of our sine curves and straigh line?"
   ]
  },
  {
   "cell_type": "code",
   "execution_count": null,
   "metadata": {
    "id": "fFuzLbHjyoqO"
   },
   "outputs": [],
   "source": [
    "np.random.seed(215202)\n",
    "ts3_noise = np.random.random(ts3.shape)\n",
    "ts3 = np.zeros((50,)) \n",
    "ts3 = ts3 + ts3_noise"
   ]
  },
  {
   "cell_type": "code",
   "execution_count": null,
   "metadata": {
    "colab": {
     "base_uri": "https://localhost:8080/"
    },
    "id": "OqcUlciPyoqO",
    "outputId": "ef0ecab4-c558-4664-801d-e3a8a8373360"
   },
   "outputs": [
    {
     "data": {
      "text/plain": [
       "(-0.10087714894729656, 0.485772279067736)"
      ]
     },
     "execution_count": 47,
     "metadata": {
      "tags": []
     },
     "output_type": "execute_result"
    }
   ],
   "source": [
    "pearsonr(ts1, ts2)"
   ]
  },
  {
   "cell_type": "code",
   "execution_count": null,
   "metadata": {
    "colab": {
     "base_uri": "https://localhost:8080/"
    },
    "id": "UI8i6jnEyoqO",
    "outputId": "9c8fe7dc-4f46-476b-b002-1ef54cb7eefc"
   },
   "outputs": [
    {
     "data": {
      "text/plain": [
       "(0.19217749375608117, 0.1812125015007657)"
      ]
     },
     "execution_count": 48,
     "metadata": {
      "tags": []
     },
     "output_type": "execute_result"
    }
   ],
   "source": [
    "pearsonr(ts1, ts3)"
   ]
  },
  {
   "cell_type": "code",
   "execution_count": null,
   "metadata": {
    "colab": {
     "base_uri": "https://localhost:8080/"
    },
    "id": "tBbQo2NxyoqP",
    "outputId": "541571de-cbb9-4d8e-eabe-dd08b40aca00"
   },
   "outputs": [
    {
     "data": {
      "text/plain": [
       "(0.18666336432272013, 0.19429849424053683)"
      ]
     },
     "execution_count": 49,
     "metadata": {
      "tags": []
     },
     "output_type": "execute_result"
    }
   ],
   "source": [
    "pearsonr(ts2, ts3 + np.random.random(ts3.shape))"
   ]
  },
  {
   "cell_type": "markdown",
   "metadata": {
    "id": "yygKA-DCyoqP"
   },
   "source": [
    "## Exercise: use what we discussed about dynamic programming to code a DTW function"
   ]
  },
  {
   "cell_type": "code",
   "execution_count": null,
   "metadata": {
    "id": "TUi6gY0-yoqP"
   },
   "outputs": [],
   "source": [
    "X = words.iloc[:, 1:271].values"
   ]
  },
  {
   "cell_type": "code",
   "execution_count": null,
   "metadata": {
    "id": "7J1F_OD3yoqP"
   },
   "outputs": [],
   "source": [
    "def distDTW(ts1, ts2):\n",
    "    DTW       = np.full((len(ts1) + 1, len(ts2) + 1), 0, dtype = np.float32)\n",
    "    DTW[:, 0] = np.inf\n",
    "    DTW[0, :] = np.inf\n",
    "    DTW[0, 0] = 0\n",
    "\n",
    "    for i in range(1, len(ts1) + 1):\n",
    "        for j in range(1, len(ts2) + 1):\n",
    "            idx1 = i - 1 \n",
    "            idx2 = j - 1\n",
    "            \n",
    "            dist               = (ts1[idx1] - ts2[idx2])**2\n",
    "            min_preceding_dist = min(DTW[i-1, j],DTW[i, j-1], DTW[i-1, j-1])\n",
    "\n",
    "            DTW[i, j] = dist + min_preceding_dist\n",
    "\n",
    "    return sqrt(DTW[len(ts1), len(ts2)])"
   ]
  },
  {
   "cell_type": "markdown",
   "metadata": {
    "id": "5q4eMu2CyoqP"
   },
   "source": [
    "## Exercise: does this fix the problem above noted with the sine curves vs. a straight line?"
   ]
  },
  {
   "cell_type": "code",
   "execution_count": null,
   "metadata": {
    "colab": {
     "base_uri": "https://localhost:8080/"
    },
    "id": "Sg0Xmn9ryoqP",
    "outputId": "f1bfbe7e-a9e5-4291-daec-39d7e0c9d352"
   },
   "outputs": [
    {
     "data": {
      "text/plain": [
       "3.7609101849567645"
      ]
     },
     "execution_count": 52,
     "metadata": {
      "tags": []
     },
     "output_type": "execute_result"
    }
   ],
   "source": [
    "distDTW(ts1, ts2)"
   ]
  },
  {
   "cell_type": "code",
   "execution_count": null,
   "metadata": {
    "colab": {
     "base_uri": "https://localhost:8080/"
    },
    "id": "9VZgnPyByoqP",
    "outputId": "f78d4b1c-123f-4206-fce9-5b4c88af3e30"
   },
   "outputs": [
    {
     "data": {
      "text/plain": [
       "3.718500850249092"
      ]
     },
     "execution_count": 53,
     "metadata": {
      "tags": []
     },
     "output_type": "execute_result"
    }
   ],
   "source": [
    "distDTW(ts1, ts3)"
   ]
  },
  {
   "cell_type": "code",
   "execution_count": null,
   "metadata": {
    "colab": {
     "base_uri": "https://localhost:8080/"
    },
    "id": "QJwv2TFoyoqP",
    "outputId": "933cba1c-84a6-4912-eae0-009e463cf248"
   },
   "outputs": [
    {
     "data": {
      "text/plain": [
       "4.163253276127519"
      ]
     },
     "execution_count": 54,
     "metadata": {
      "tags": []
     },
     "output_type": "execute_result"
    }
   ],
   "source": [
    "distDTW(ts2, ts3)"
   ]
  },
  {
   "cell_type": "code",
   "execution_count": null,
   "metadata": {
    "colab": {
     "base_uri": "https://localhost:8080/"
    },
    "id": "yFs-UrUwyoqQ",
    "outputId": "b03041b8-ec0b-4776-f9da-f2519fe33c08"
   },
   "outputs": [
    {
     "data": {
      "text/plain": [
       "7.777960024318239"
      ]
     },
     "execution_count": 55,
     "metadata": {
      "tags": []
     },
     "output_type": "execute_result"
    }
   ],
   "source": [
    "distDTW(X[0], X[1])"
   ]
  },
  {
   "cell_type": "code",
   "execution_count": null,
   "metadata": {
    "colab": {
     "base_uri": "https://localhost:8080/"
    },
    "id": "h7f4VxnvyoqQ",
    "outputId": "71549d9a-02a9-46c9-caa6-23d43bb59e08"
   },
   "outputs": [
    {
     "data": {
      "text/plain": [
       "7.777960164340302"
      ]
     },
     "execution_count": 56,
     "metadata": {
      "tags": []
     },
     "output_type": "execute_result"
    }
   ],
   "source": [
    "dtw.distance(X[0], X[1])\n",
    "## worth checking out: https://github.com/wannesm/dtaidistance"
   ]
  },
  {
   "cell_type": "code",
   "execution_count": null,
   "metadata": {
    "id": "o0IiVs8-yoqQ"
   },
   "outputs": [],
   "source": [
    "p = pairwise_distances(X, metric = distDTW)"
   ]
  },
  {
   "cell_type": "code",
   "execution_count": null,
   "metadata": {
    "id": "DowGQS2SyoqQ"
   },
   "outputs": [],
   "source": [
    "with open(\"pairwise_word_distances.npy\", \"wb\") as f:\n",
    "    np.save(f, p)"
   ]
  },
  {
   "cell_type": "code",
   "execution_count": null,
   "metadata": {
    "id": "W6DhH1IoyoqQ"
   },
   "outputs": [],
   "source": [
    "p = np.load(\"pairwise_word_distances.npy\")"
   ]
  },
  {
   "cell_type": "markdown",
   "metadata": {
    "id": "u2vVJ9kGyoqQ"
   },
   "source": [
    "## Exercise: Try clustering based on dynamic time warping distances"
   ]
  },
  {
   "cell_type": "code",
   "execution_count": null,
   "metadata": {
    "id": "Agk5RJWdyoqQ"
   },
   "outputs": [],
   "source": [
    "## We will use hierarchical clustering as a distance agnostic methodology"
   ]
  },
  {
   "cell_type": "code",
   "execution_count": null,
   "metadata": {
    "id": "UQct4hoWyoqQ"
   },
   "outputs": [],
   "source": [
    "clustering = AgglomerativeClustering(linkage='average', n_clusters=50, affinity = 'precomputed') \n",
    "## 'average' linkage is good for non Euclidean distance metrics"
   ]
  },
  {
   "cell_type": "code",
   "execution_count": null,
   "metadata": {
    "id": "6zD_8w5XyoqQ"
   },
   "outputs": [],
   "source": [
    "labels = clustering.fit_predict(p)"
   ]
  },
  {
   "cell_type": "code",
   "execution_count": null,
   "metadata": {
    "id": "OOp1S4pyyoqR"
   },
   "outputs": [],
   "source": [
    "len(words.word)"
   ]
  },
  {
   "cell_type": "code",
   "execution_count": null,
   "metadata": {
    "id": "QmbrKeD_yoqR"
   },
   "outputs": [],
   "source": [
    "len(labels)"
   ]
  },
  {
   "cell_type": "markdown",
   "metadata": {
    "id": "4oB7YdIIyoqR"
   },
   "source": [
    "## Exercise: How did the clustering perform?"
   ]
  },
  {
   "cell_type": "code",
   "execution_count": null,
   "metadata": {
    "id": "QVquegm0yoqR"
   },
   "outputs": [],
   "source": [
    "\n",
    "print(homogeneity_score(words.word, labels))\n",
    "print(completeness_score(words.word, labels))"
   ]
  },
  {
   "cell_type": "code",
   "execution_count": null,
   "metadata": {
    "id": "9l3n6F8nyoqR"
   },
   "outputs": [],
   "source": [
    "# quoting: https://scikit-learn.org/stable/modules/clustering.html#homogeneity-completeness\n",
    "# homogeneity: each cluster contains only members of a single class.\n",
    "# completeness: all members of a given class are assigned to the same cluster."
   ]
  },
  {
   "cell_type": "code",
   "execution_count": null,
   "metadata": {
    "id": "G6d91tmjyoqR"
   },
   "outputs": [],
   "source": [
    "res = contingency_matrix(labels, words.word)"
   ]
  },
  {
   "cell_type": "code",
   "execution_count": null,
   "metadata": {
    "colab": {
     "base_uri": "https://localhost:8080/",
     "height": 609
    },
    "id": "GFOcRPF3yoqR",
    "outputId": "f7abcdb0-abff-4656-9f95-a42e278f2aa4"
   },
   "outputs": [
    {
     "data": {
      "text/plain": [
       "<matplotlib.image.AxesImage at 0x7f94eeaa4790>"
      ]
     },
     "execution_count": 100,
     "metadata": {
      "tags": []
     },
     "output_type": "execute_result"
    },
    {
     "data": {
      "image/png": "[encoded data removed]",
      "text/plain": [
       "<Figure size 1080x720 with 1 Axes>"
      ]
     },
     "metadata": {
      "needs_background": "light",
      "tags": []
     },
     "output_type": "display_data"
    }
   ],
   "source": [
    "## note difficulties in assessing this given imbalanced dataset\n",
    "plt.imshow(res)"
   ]
  },
  {
   "cell_type": "code",
   "execution_count": null,
   "metadata": {
    "id": "SqQIZjat6eFo"
   },
   "outputs": [],
   "source": [
    ""
   ]
  },
  {
   "cell_type": "markdown",
   "metadata": {
    "id": "ZNCVAFeO2XBG"
   },
   "source": [
    "# 개선 방법\n",
    "* DTW 거리와 특징을 모두 포함한다. DTW 거리와 특징을 결합하는 방식은 개념적으로나 코딩적으로나 까다롭다.\n",
    "* 다른 거리 지표를 사용한다. 전에 언급한 대로 적절한 거리 지표란 데이터, 목표, 이어지는 분석 작업의 종류에 따라 달라진다. 따라서 이 단어 분석의 목표를 좀 더 좁고 기하학적으로 정의할 필요가 있다. 그러면 DTW가 목표에 대한 최상의 측정 기준을 판단해볼 수 있다. "
   ]
  },
  {
   "cell_type": "code",
   "execution_count": null,
   "metadata": {
    "id": "g-4kN35D2mD-"
   },
   "outputs": [],
   "source": [
    ""
   ]
  }
 ],
 "metadata": {
  "colab": {
   "collapsed_sections": [],
   "name": "Chapter 9. (Python) Clustering.ipynb",
   "provenance": []
  },
  "kernelspec": {
   "display_name": "Python 3",
   "language": "python",
   "name": "python3"
  },
  "language_info": {
   "codemirror_mode": {
    "name": "ipython",
    "version": 3
   },
   "file_extension": ".py",
   "mimetype": "text/x-python",
   "name": "python",
   "nbconvert_exporter": "python",
   "pygments_lexer": "ipython3",
   "version": "3.6.8"
  }
 },
 "nbformat": 4,
 "nbformat_minor": 0
}
